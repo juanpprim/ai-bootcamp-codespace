{
 "cells": [
  {
   "cell_type": "code",
   "execution_count": 1,
   "id": "79bba1c7-ad9a-49b2-acd0-ec377f59f0ad",
   "metadata": {},
   "outputs": [],
   "source": [
    "import sys\n",
    "sys.path.insert(0, '..')"
   ]
  },
  {
   "cell_type": "code",
   "execution_count": null,
   "id": "13d7cd4b-22b7-4fbb-b484-c8c2348dca1c",
   "metadata": {},
   "outputs": [],
   "source": [
    "import pandas as pd\n",
    "\n",
    "df_ground_truth = pd.read_csv('./ground_truth_evidently.csv')\n",
    "\n",
    "ground_truth = df_ground_truth.to_dict(orient='records')"
   ]
  },
  {
   "cell_type": "code",
   "execution_count": 5,
   "id": "1921e5ce-dc64-4203-bcc6-068932fd2480",
   "metadata": {},
   "outputs": [],
   "source": [
    "import docs\n",
    "\n",
    "raw_documents = docs.read_github_data()\n",
    "documents = docs.parse_data(raw_documents)\n",
    "chunks = docs.chunk_documents(documents)"
   ]
  },
  {
   "cell_type": "code",
   "execution_count": 6,
   "id": "6ff28483-5c1f-4904-8b84-d83d972192cd",
   "metadata": {},
   "outputs": [
    {
     "data": {
      "text/plain": [
       "<minsearch.minsearch.Index at 0x78b1d0f79400>"
      ]
     },
     "execution_count": 6,
     "metadata": {},
     "output_type": "execute_result"
    }
   ],
   "source": [
    "\n",
    "from minsearch import Index\n",
    "from typing import Any, Dict, List, TypedDict\n",
    "\n",
    "index = Index(\n",
    "    text_fields=[\"content\", \"filename\", \"title\", \"description\"],\n",
    ")\n",
    "\n",
    "index.fit(chunks)"
   ]
  },
  {
   "cell_type": "code",
   "execution_count": 7,
   "id": "fd5230af-68a5-4e48-82c7-0592ce3b226b",
   "metadata": {},
   "outputs": [],
   "source": [
    "\n",
    "class SearchResult(TypedDict):\n",
    "    \"\"\"Represents a single search result entry.\"\"\"\n",
    "    start: int\n",
    "    content: str\n",
    "    title: str\n",
    "    description: str\n",
    "    filename: str\n",
    "\n",
    "\n",
    "def search(query: str) -> List[SearchResult]:\n",
    "    \"\"\"\n",
    "    Search the index for documents matching the given query.\n",
    "\n",
    "    Args:\n",
    "        query (str): The search query string.\n",
    "\n",
    "    Returns:\n",
    "        List[SearchResult]: A list of search results. Each result dictionary contains:\n",
    "            - start (int): The starting position or offset within the source file.\n",
    "            - content (str): A text excerpt or snippet containing the match.\n",
    "            - title (str): The title of the matched document.\n",
    "            - description (str): A short description of the document.\n",
    "            - filename (str): The path or name of the source file.\n",
    "    \"\"\"\n",
    "    return index.search(\n",
    "        query=query,\n",
    "        num_results=5,\n",
    "    )"
   ]
  },
  {
   "cell_type": "code",
   "execution_count": 8,
   "id": "7369e813-c34d-4b09-839a-39c9cf1abef1",
   "metadata": {},
   "outputs": [],
   "source": [
    "all_relevancies = []\n",
    "\n",
    "for rec in ground_truth:\n",
    "    filename = rec['filename']\n",
    "    sr = search(rec['question'])\n",
    "    relevancy = [r['filename'] == filename for r in sr]\n",
    "    all_relevancies.append(relevancy)"
   ]
  },
  {
   "cell_type": "code",
   "execution_count": 9,
   "id": "c3eb2b6a-fe05-410e-82f1-d47e92aeb03c",
   "metadata": {},
   "outputs": [
    {
     "data": {
      "text/plain": [
       "(0.4053452115812918, 0.3303266518188565)"
      ]
     },
     "execution_count": 9,
     "metadata": {},
     "output_type": "execute_result"
    }
   ],
   "source": [
    "count = 0 \n",
    "mrr = 0\n",
    "\n",
    "for relevancy in all_relevancies:\n",
    "    for rank, r in enumerate(relevancy):\n",
    "        if r == True:\n",
    "            count = count + 1\n",
    "            mrr = mrr + 1 / (rank + 1)\n",
    "            break\n",
    "\n",
    "count / len(all_relevancies), mrr / len(all_relevancies)"
   ]
  },
  {
   "cell_type": "code",
   "execution_count": 10,
   "id": "1fbfe8f2-553c-4359-8769-b29da2223881",
   "metadata": {},
   "outputs": [],
   "source": [
    "def hit_rate(relevance_total):\n",
    "    cnt = 0\n",
    "\n",
    "    for line in relevance_total:\n",
    "        if True in line:\n",
    "            cnt = cnt + 1\n",
    "\n",
    "    return cnt / len(relevance_total)\n",
    "\n",
    "\n",
    "def mrr(relevance_total):\n",
    "    total_score = 0.0\n",
    "\n",
    "    for line in relevance_total:\n",
    "        for rank in range(len(line)):\n",
    "            if line[rank] == True:\n",
    "                total_score = total_score + 1 / (rank + 1)\n",
    "                break\n",
    "\n",
    "    return total_score / len(relevance_total)"
   ]
  },
  {
   "cell_type": "code",
   "execution_count": 11,
   "id": "3d297975-e510-4aef-bfd9-82396927a645",
   "metadata": {},
   "outputs": [],
   "source": [
    "from tqdm.auto import tqdm \n",
    "\n",
    "def evaluate(\n",
    "        ground_truth,\n",
    "        search_function,\n",
    "        question_column='question',\n",
    "        id_column='filename'\n",
    "):\n",
    "    relevance_total = []\n",
    "\n",
    "    for q in tqdm(ground_truth):\n",
    "        doc_id = q[id_column]\n",
    "        results = search_function(q[question_column])\n",
    "        relevance = [d[id_column] == doc_id for d in results]\n",
    "        relevance_total.append(relevance)\n",
    "\n",
    "    return {\n",
    "        'hit_rate': hit_rate(relevance_total),\n",
    "        'mrr': mrr(relevance_total),\n",
    "    }"
   ]
  },
  {
   "cell_type": "code",
   "execution_count": 12,
   "id": "b0b91677-b4b6-4989-a482-6257e2e98a42",
   "metadata": {},
   "outputs": [
    {
     "data": {
      "application/vnd.jupyter.widget-view+json": {
       "model_id": "70fd62a42ca8484cbdd07f6a3e321764",
       "version_major": 2,
       "version_minor": 0
      },
      "text/plain": [
       "  0%|          | 0/449 [00:00<?, ?it/s]"
      ]
     },
     "metadata": {},
     "output_type": "display_data"
    },
    {
     "data": {
      "text/plain": [
       "{'hit_rate': 0.4053452115812918, 'mrr': 0.3303266518188565}"
      ]
     },
     "execution_count": 12,
     "metadata": {},
     "output_type": "execute_result"
    }
   ],
   "source": [
    "evaluate(ground_truth, search)"
   ]
  },
  {
   "cell_type": "markdown",
   "id": "659f2365-2b80-4756-b9a8-1d483c272ca1",
   "metadata": {},
   "source": [
    "## Vector search"
   ]
  },
  {
   "cell_type": "code",
   "execution_count": 13,
   "id": "dbf4bf93-d706-43d5-8268-906a7691f756",
   "metadata": {},
   "outputs": [],
   "source": [
    "from sentence_transformers import SentenceTransformer\n",
    "\n",
    "embedding_model = SentenceTransformer('multi-qa-distilbert-cos-v1')"
   ]
  },
  {
   "cell_type": "code",
   "execution_count": 14,
   "id": "a901e435-5c27-455f-a3bb-660b51d481f8",
   "metadata": {},
   "outputs": [
    {
     "data": {
      "application/vnd.jupyter.widget-view+json": {
       "model_id": "6ad6f4f23d2d4d398feb87fa84592e62",
       "version_major": 2,
       "version_minor": 0
      },
      "text/plain": [
       "  0%|          | 0/575 [00:00<?, ?it/s]"
      ]
     },
     "metadata": {},
     "output_type": "display_data"
    }
   ],
   "source": [
    "import numpy as np\n",
    "from tqdm.auto import tqdm\n",
    "\n",
    "embeddings = []\n",
    "\n",
    "for d in tqdm(chunks):\n",
    "    text = d.get('title', '') + ' ' + d.get('description', '') + ' ' + d.get('content', '')\n",
    "    text = text.strip()\n",
    "    v = embedding_model.encode(text)\n",
    "    embeddings.append(v)\n",
    "\n",
    "embeddings = np.array(embeddings)"
   ]
  },
  {
   "cell_type": "code",
   "execution_count": 15,
   "id": "a1eaa42a-f721-4719-bb25-88c295018d5b",
   "metadata": {},
   "outputs": [],
   "source": [
    "from minsearch import VectorSearch"
   ]
  },
  {
   "cell_type": "code",
   "execution_count": 16,
   "id": "88e26416-73da-4cc2-8c40-49881d00f935",
   "metadata": {},
   "outputs": [],
   "source": [
    "vindex = VectorSearch()"
   ]
  },
  {
   "cell_type": "code",
   "execution_count": 17,
   "id": "765b57b9-011c-4a1e-9311-620553c2e876",
   "metadata": {},
   "outputs": [
    {
     "data": {
      "text/plain": [
       "<minsearch.vector.VectorSearch at 0x78b0af4e58b0>"
      ]
     },
     "execution_count": 17,
     "metadata": {},
     "output_type": "execute_result"
    }
   ],
   "source": [
    "vindex.fit(embeddings, chunks)"
   ]
  },
  {
   "cell_type": "code",
   "execution_count": 18,
   "id": "74390f90-9759-49f4-9a0c-d8f0882255bc",
   "metadata": {},
   "outputs": [],
   "source": [
    "def vsearch(query: str) -> List[SearchResult]:\n",
    "    q = embedding_model.encode(query)\n",
    "    return vindex.search(\n",
    "        query_vector=q,\n",
    "        num_results=5,\n",
    "    )"
   ]
  },
  {
   "cell_type": "code",
   "execution_count": 20,
   "id": "df225b05-1743-438d-80e7-5f32649fb380",
   "metadata": {},
   "outputs": [
    {
     "data": {
      "application/vnd.jupyter.widget-view+json": {
       "model_id": "e62dc3a45d054a2a998532790b14e2b8",
       "version_major": 2,
       "version_minor": 0
      },
      "text/plain": [
       "  0%|          | 0/449 [00:00<?, ?it/s]"
      ]
     },
     "metadata": {},
     "output_type": "display_data"
    },
    {
     "data": {
      "text/plain": [
       "{'hit_rate': 0.7371937639198218, 'mrr': 0.5797327394209352}"
      ]
     },
     "execution_count": 20,
     "metadata": {},
     "output_type": "execute_result"
    }
   ],
   "source": [
    "evaluate(ground_truth, vsearch)"
   ]
  },
  {
   "cell_type": "markdown",
   "id": "39c9b11d-bfd6-48b8-9e28-4fae029f365d",
   "metadata": {},
   "source": [
    "## Hybrid Search"
   ]
  },
  {
   "cell_type": "code",
   "execution_count": 21,
   "id": "8894fae4-06d0-4f52-b856-a8b745a7300f",
   "metadata": {},
   "outputs": [],
   "source": [
    "def hsearch(query: str) -> List[SearchResult]:\n",
    "    return vsearch(query) + search(query)"
   ]
  },
  {
   "cell_type": "code",
   "execution_count": 22,
   "id": "8159c2f4-f939-4e24-bf39-fc45e94f9bc4",
   "metadata": {},
   "outputs": [
    {
     "data": {
      "application/vnd.jupyter.widget-view+json": {
       "model_id": "70daddbaad2a4ebf95edfe00ca507baa",
       "version_major": 2,
       "version_minor": 0
      },
      "text/plain": [
       "  0%|          | 0/449 [00:00<?, ?it/s]"
      ]
     },
     "metadata": {},
     "output_type": "display_data"
    },
    {
     "data": {
      "text/plain": [
       "{'hit_rate': 0.7817371937639198, 'mrr': 0.5864690493866439}"
      ]
     },
     "execution_count": 22,
     "metadata": {},
     "output_type": "execute_result"
    }
   ],
   "source": [
    "evaluate(ground_truth, hsearch)"
   ]
  },
  {
   "cell_type": "code",
   "execution_count": null,
   "id": "592cbfae-f44e-4213-9017-7d879d478060",
   "metadata": {},
   "outputs": [],
   "source": []
  }
 ],
 "metadata": {
  "kernelspec": {
   "display_name": "Python 3 (ipykernel)",
   "language": "python",
   "name": "python3"
  },
  "language_info": {
   "codemirror_mode": {
    "name": "ipython",
    "version": 3
   },
   "file_extension": ".py",
   "mimetype": "text/x-python",
   "name": "python",
   "nbconvert_exporter": "python",
   "pygments_lexer": "ipython3",
   "version": "3.12.1"
  }
 },
 "nbformat": 4,
 "nbformat_minor": 5
}
