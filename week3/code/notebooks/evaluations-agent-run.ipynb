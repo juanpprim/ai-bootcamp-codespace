{
 "cells": [
  {
   "cell_type": "code",
   "execution_count": 1,
   "id": "e39d05e9-35a5-4123-ab26-e36738b2caf7",
   "metadata": {},
   "outputs": [],
   "source": [
    "import sys\n",
    "sys.path.insert(0, '..')"
   ]
  },
  {
   "cell_type": "code",
   "execution_count": 2,
   "id": "31ff271c-0290-44d9-9459-a899237402af",
   "metadata": {},
   "outputs": [],
   "source": [
    "import pandas as pd\n",
    "df_ground_truth = pd.read_csv('./ground_truth_evidently.csv')\n",
    "ground_truth_all = df_ground_truth.to_dict(orient='records')"
   ]
  },
  {
   "cell_type": "code",
   "execution_count": 3,
   "id": "89babf0e-c03e-45ab-a56a-a545a7f3a3bb",
   "metadata": {},
   "outputs": [],
   "source": [
    "df_sample = df_ground_truth.sample(25, random_state=1)"
   ]
  },
  {
   "cell_type": "code",
   "execution_count": 4,
   "id": "ce7b997c-48f9-4995-bcf3-456ae1caf48d",
   "metadata": {},
   "outputs": [],
   "source": [
    "ground_truth = df_sample.to_dict(orient='records')\n",
    "ground_truth.append(ground_truth_all[150])"
   ]
  },
  {
   "cell_type": "code",
   "execution_count": null,
   "id": "a30812f3-3790-4e25-a945-fccaf6d5c3d3",
   "metadata": {},
   "outputs": [],
   "source": []
  },
  {
   "cell_type": "code",
   "execution_count": 5,
   "id": "f6acc80f-9194-4ae2-b5e5-6589842d2f09",
   "metadata": {},
   "outputs": [],
   "source": [
    "import asyncio\n",
    "from tqdm.auto import tqdm\n",
    "\n",
    "async def map_progress(seq, f, max_concurrency=6):\n",
    "    \"\"\"Asynchronously map async function f over seq with progress bar.\"\"\"\n",
    "    semaphore = asyncio.Semaphore(max_concurrency)\n",
    "\n",
    "    async def run(el):\n",
    "        async with semaphore:\n",
    "            return await f(el)\n",
    "\n",
    "    # create one coroutine per element\n",
    "    coros = [run(el) for el in seq]\n",
    "\n",
    "    # turn them into tasks that complete as they finish\n",
    "    completed = asyncio.as_completed(coros)\n",
    "\n",
    "    results = []\n",
    "\n",
    "    for coro in tqdm(completed, total=len(seq)):\n",
    "        result = await coro\n",
    "        results.append(result)\n",
    "\n",
    "    return results"
   ]
  },
  {
   "cell_type": "code",
   "execution_count": 6,
   "id": "796f6724-1fee-4946-849e-7d6edbe975c8",
   "metadata": {},
   "outputs": [],
   "source": [
    "import main\n",
    "\n",
    "agent = main.agent"
   ]
  },
  {
   "cell_type": "code",
   "execution_count": 7,
   "id": "545b7642-88ec-43de-8375-082f7e1721be",
   "metadata": {},
   "outputs": [],
   "source": [
    "import traceback\n",
    "\n",
    "async def run_agent(q):\n",
    "    try:\n",
    "        result = await agent.run(q['question'])\n",
    "        return (q, result)\n",
    "    except:\n",
    "        print(f'error processing {q}')\n",
    "        traceback.print_exc()\n",
    "        return (None, None)"
   ]
  },
  {
   "cell_type": "code",
   "execution_count": 8,
   "id": "acbd3e03-74c6-4860-9128-33c12bc75c14",
   "metadata": {},
   "outputs": [
    {
     "data": {
      "application/vnd.jupyter.widget-view+json": {
       "model_id": "87453cc8346848918a12d369547ad906",
       "version_major": 2,
       "version_minor": 0
      },
      "text/plain": [
       "  0%|          | 0/26 [00:00<?, ?it/s]"
      ]
     },
     "metadata": {},
     "output_type": "display_data"
    },
    {
     "name": "stdout",
     "output_type": "stream",
     "text": [
      "forcing output\n",
      "forcing output\n",
      "forcing output\n",
      "forcing output\n",
      "forcing output\n",
      "forcing output\n",
      "forcing output\n",
      "forcing output\n"
     ]
    }
   ],
   "source": [
    "all_results = await map_progress(\n",
    "    ground_truth,\n",
    "    run_agent,\n",
    "    max_concurrency=10\n",
    ")"
   ]
  },
  {
   "cell_type": "code",
   "execution_count": 18,
   "id": "d39a0dca-18c7-443c-9d1a-7ef49cf8f50f",
   "metadata": {},
   "outputs": [],
   "source": [
    "from toyaikit.pricing import PricingConfig\n",
    "pricing = PricingConfig()\n",
    "\n",
    "def calculate_cost(model, all_results):\n",
    "    input_tokens = 0\n",
    "    output_tokens = 0\n",
    "    \n",
    "    for _, r in all_results:\n",
    "        usage = r.usage()\n",
    "        input_tokens = input_tokens + usage.input_tokens\n",
    "        output_tokens = output_tokens + usage.output_tokens\n",
    "\n",
    "    cost = pricing.calculate_cost(model, input_tokens, output_tokens)\n",
    "    return cost"
   ]
  },
  {
   "cell_type": "code",
   "execution_count": 19,
   "id": "22316d18-3ce1-46fe-880b-891f03a0c1fb",
   "metadata": {},
   "outputs": [
    {
     "data": {
      "text/plain": [
       "CostInfo(input_cost=0.05735985, output_cost=0.0088374, total_cost=0.06619725)"
      ]
     },
     "execution_count": 19,
     "metadata": {},
     "output_type": "execute_result"
    }
   ],
   "source": [
    "calculate_cost('gpt-4o-mini', all_results)"
   ]
  },
  {
   "cell_type": "code",
   "execution_count": 40,
   "id": "aac14dc0-367d-45d5-993c-b12f419d367f",
   "metadata": {},
   "outputs": [
    {
     "data": {
      "text/plain": [
       "CostInfo(input_cost=0.8702436, output_cost=0.15745079999999997, total_cost=1.0276944)"
      ]
     },
     "execution_count": 40,
     "metadata": {},
     "output_type": "execute_result"
    }
   ],
   "source": [
    "calculate_cost('gpt-4o-mini', all_results)"
   ]
  },
  {
   "cell_type": "code",
   "execution_count": 9,
   "id": "f91fbffd-2655-4326-bf8f-7d4856cdba49",
   "metadata": {},
   "outputs": [],
   "source": [
    "import json\n",
    "\n",
    "def simplify_messages(messages):\n",
    "    messages_simplified = []\n",
    "\n",
    "    for m in messages:\n",
    "        parts = []\n",
    "\n",
    "        for original_part in m.parts:\n",
    "            kind = original_part.part_kind\n",
    "            # print(original_part)\n",
    "            part = {\n",
    "                'kind': kind\n",
    "            }\n",
    "            if kind == 'user-prompt':\n",
    "                part['content'] = original_part.content\n",
    "            if kind == 'tool-call':\n",
    "                if original_part.tool_name == 'final_result':\n",
    "                    continue\n",
    "    \n",
    "                part['tool_name'] = original_part.tool_name\n",
    "                part['args'] = json.loads(original_part.args)\n",
    "            if kind == 'tool-return':\n",
    "                continue\n",
    "            if kind == 'text':\n",
    "                part['content'] = original_part.content\n",
    "\n",
    "            parts.append(part)\n",
    "\n",
    "        if len(parts) > 0:\n",
    "            messages_simplified.extend(parts)\n",
    "\n",
    "    return messages_simplified"
   ]
  },
  {
   "cell_type": "code",
   "execution_count": 10,
   "id": "89461e03-1752-45b6-8bab-70bbf330667a",
   "metadata": {},
   "outputs": [],
   "source": [
    "rows = []\n",
    "\n",
    "for q, r in all_results:\n",
    "    usage = r.usage()\n",
    "    row = {\n",
    "        'question': q['question'],\n",
    "        'answer': r.output.format_article(),\n",
    "        'messages': simplify_messages(r.new_messages()),\n",
    "        'tool_call_number': usage.tool_calls,\n",
    "        'requests': usage.requests,\n",
    "        'original_question': q,\n",
    "        'original_result': r\n",
    "    }\n",
    "    rows.append(row)\n",
    "        \n",
    "    # question\n",
    "    # answer \n",
    "    # tool calls"
   ]
  },
  {
   "cell_type": "code",
   "execution_count": 25,
   "id": "7b70233b-4dc9-45b9-96d7-14a80e73df9d",
   "metadata": {},
   "outputs": [],
   "source": [
    "df_run = pd.DataFrame(rows)"
   ]
  },
  {
   "cell_type": "code",
   "execution_count": 12,
   "id": "f0c3030e-fade-4206-a976-bdfd4cfb554a",
   "metadata": {},
   "outputs": [],
   "source": [
    "import pickle"
   ]
  },
  {
   "cell_type": "code",
   "execution_count": 13,
   "id": "d692f4e1-708b-4a44-80c3-03f4d3b576f0",
   "metadata": {},
   "outputs": [],
   "source": [
    "with open('eval-run-v2-2025-10-22-22-25.bin', 'wb') as f_out:\n",
    "    pickle.dump(rows, f_out)"
   ]
  },
  {
   "cell_type": "code",
   "execution_count": 14,
   "id": "49a059b3-63bc-4f26-b713-d32f792a0252",
   "metadata": {},
   "outputs": [
    {
     "name": "stdout",
     "output_type": "stream",
     "text": [
      "total 4.8M\n",
      "-rw-rw-rw- 1 codespace codespace 3.5M Oct 22 09:11 all-results-v1.bin\n",
      "-rw-rw-rw- 1 codespace codespace 576K Oct 22 09:29 eval-run-v2-2025-10-22-11-28.bin\n",
      "-rw-rw-rw- 1 codespace codespace 569K Oct 22 20:25 eval-run-v2-2025-10-22-22-25.bin\n",
      "-rw-rw-rw- 1 codespace codespace 8.9K Oct 22 20:25 evaluations-agent-run.ipynb\n",
      "-rw-rw-rw- 1 codespace codespace  19K Oct 22 20:24 evaluations-judge.ipynb\n",
      "-rw-rw-rw- 1 codespace codespace  19K Oct 20 22:36 ground-truth.ipynb\n",
      "-rw-rw-rw- 1 codespace codespace  98K Oct 20 22:20 ground_truth_evidently.csv\n",
      "-rw-rw-rw- 1 codespace codespace  12K Oct 20 23:34 retrieval-evaluation.ipynb\n"
     ]
    }
   ],
   "source": [
    "!ls -lh"
   ]
  },
  {
   "cell_type": "code",
   "execution_count": null,
   "id": "4a6f6f90-4ca9-487b-aa7c-6326866ebbfb",
   "metadata": {},
   "outputs": [],
   "source": []
  }
 ],
 "metadata": {
  "kernelspec": {
   "display_name": "Python 3 (ipykernel)",
   "language": "python",
   "name": "python3"
  },
  "language_info": {
   "codemirror_mode": {
    "name": "ipython",
    "version": 3
   },
   "file_extension": ".py",
   "mimetype": "text/x-python",
   "name": "python",
   "nbconvert_exporter": "python",
   "pygments_lexer": "ipython3",
   "version": "3.12.1"
  }
 },
 "nbformat": 4,
 "nbformat_minor": 5
}
