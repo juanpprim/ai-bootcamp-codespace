{
 "cells": [
  {
   "cell_type": "code",
   "execution_count": 1,
   "id": "e9f5d60c-6ed1-4a8a-ad0c-2da0972a2cc4",
   "metadata": {},
   "outputs": [
    {
     "name": "stdout",
     "output_type": "stream",
     "text": [
      "--2025-10-25 17:28:56--  https://github.com/alexeygrigorev/ai-bootcamp-codespace/raw/refs/heads/main/week1/docs.py\n",
      "Loaded CA certificate '/etc/ssl/certs/ca-certificates.crt'\n",
      "Resolving github.com (github.com)... 140.82.121.3\n",
      "Connecting to github.com (github.com)|140.82.121.3|:443... connected.\n",
      "HTTP request sent, awaiting response... 302 Found\n",
      "Location: https://raw.githubusercontent.com/alexeygrigorev/ai-bootcamp-codespace/refs/heads/main/week1/docs.py [following]\n",
      "--2025-10-25 17:28:57--  https://raw.githubusercontent.com/alexeygrigorev/ai-bootcamp-codespace/refs/heads/main/week1/docs.py\n",
      "Resolving raw.githubusercontent.com (raw.githubusercontent.com)... 185.199.110.133, 185.199.108.133, 185.199.109.133, ...\n",
      "Connecting to raw.githubusercontent.com (raw.githubusercontent.com)|185.199.110.133|:443... connected.\n",
      "HTTP request sent, awaiting response... 200 OK\n",
      "Length: 8583 (8.4K) [text/plain]\n",
      "Saving to: ‘docs.py.1’\n",
      "\n",
      "docs.py.1           100%[===================>]   8.38K  --.-KB/s    in 0s      \n",
      "\n",
      "2025-10-25 17:28:57 (55.2 MB/s) - ‘docs.py.1’ saved [8583/8583]\n",
      "\n"
     ]
    }
   ],
   "source": [
    "!wget https://github.com/alexeygrigorev/ai-bootcamp-codespace/raw/refs/heads/main/week1/docs.py"
   ]
  },
  {
   "cell_type": "code",
   "execution_count": 2,
   "id": "0ed2c133-f574-441f-8a3c-da5823fa0be7",
   "metadata": {},
   "outputs": [],
   "source": [
    "import docs\n",
    "\n",
    "github_data = docs.read_github_data()\n",
    "parsed_data = docs.parse_data(github_data)\n",
    "chunks = docs.chunk_documents(parsed_data)"
   ]
  },
  {
   "cell_type": "code",
   "execution_count": 4,
   "id": "b32df131-a729-47ef-ab2d-6551cc942fb8",
   "metadata": {},
   "outputs": [
    {
     "data": {
      "text/plain": [
       "<minsearch.minsearch.Index at 0x796e592ec110>"
      ]
     },
     "execution_count": 4,
     "metadata": {},
     "output_type": "execute_result"
    }
   ],
   "source": [
    "from minsearch import Index\n",
    "\n",
    "index = Index(\n",
    "    text_fields=[\"content\", \"filename\", \"title\", \"description\"],\n",
    ")\n",
    "\n",
    "index.fit(chunks)"
   ]
  },
  {
   "cell_type": "code",
   "execution_count": 5,
   "id": "0a3ca40f-c002-405f-966f-e2e9d57d9a55",
   "metadata": {},
   "outputs": [],
   "source": [
    "from typing import Any, Dict, List, TypedDict\n",
    "\n",
    "class SearchResult(TypedDict):\n",
    "    \"\"\"Represents a single search result entry.\"\"\"\n",
    "    start: int\n",
    "    content: str\n",
    "    title: str\n",
    "    description: str\n",
    "    filename: str\n",
    "\n",
    "\n",
    "def search(query: str) -> List[SearchResult]:\n",
    "    \"\"\"\n",
    "    Search the index for documents matching the given query.\n",
    "\n",
    "    Args:\n",
    "        query (str): The search query string.\n",
    "\n",
    "    Returns:\n",
    "        List[SearchResult]: A list of search results. Each result dictionary contains:\n",
    "            - start (int): The starting position or offset within the source file.\n",
    "            - content (str): A text excerpt or snippet containing the match.\n",
    "            - title (str): The title of the matched document.\n",
    "            - description (str): A short description of the document.\n",
    "            - filename (str): The path or name of the source file.\n",
    "    \"\"\"\n",
    "    return index.search(\n",
    "        query=query,\n",
    "        num_results=5,\n",
    "    )"
   ]
  },
  {
   "cell_type": "code",
   "execution_count": 10,
   "id": "def264fd-f12c-431d-a154-1da6959e56c5",
   "metadata": {},
   "outputs": [],
   "source": [
    "file_index = {}\n",
    "\n",
    "for item in parsed_data:\n",
    "    filename = item['filename']\n",
    "    content = item['content']\n",
    "    file_index[filename] = content"
   ]
  },
  {
   "cell_type": "code",
   "execution_count": 11,
   "id": "d2829d8e-f4c1-47a6-9d95-fffa02dbfd6e",
   "metadata": {},
   "outputs": [
    {
     "data": {
      "text/plain": [
       "95"
      ]
     },
     "execution_count": 11,
     "metadata": {},
     "output_type": "execute_result"
    }
   ],
   "source": [
    "len(file_index)"
   ]
  },
  {
   "cell_type": "code",
   "execution_count": 13,
   "id": "1e6e68b1-e2a9-4289-a8c0-a7894d88deab",
   "metadata": {},
   "outputs": [],
   "source": [
    "def read_file(filename: str) -> str:\n",
    "    \"\"\"\n",
    "    Retrieve the contents of a file from the file index if it exists.\n",
    "\n",
    "    Args:\n",
    "        filename (str): The name of the file to read.\n",
    "\n",
    "    Returns:\n",
    "        str: The file's contents if found, otherwise an error message \n",
    "        indicating that the file does not exist.\n",
    "    \"\"\"\n",
    "    if filename in file_index:\n",
    "        return file_index[filename]\n",
    "    return \"File doesn't exist\""
   ]
  },
  {
   "cell_type": "code",
   "execution_count": 14,
   "id": "ca60c92b-ea75-480c-b166-c4c6178572eb",
   "metadata": {},
   "outputs": [],
   "source": [
    "from toyaikit.llm import OpenAIClient\n",
    "from toyaikit.chat import IPythonChatInterface\n",
    "from toyaikit.chat.runners import OpenAIResponsesRunner\n",
    "from toyaikit.chat.runners import DisplayingRunnerCallback\n",
    "from toyaikit.tools import Tools"
   ]
  },
  {
   "cell_type": "code",
   "execution_count": null,
   "id": "c270492d-0964-4b4d-95e9-81578dd2c772",
   "metadata": {},
   "outputs": [],
   "source": []
  },
  {
   "cell_type": "code",
   "execution_count": 23,
   "id": "59e088a4-0d6f-4fd1-8add-3327fb468611",
   "metadata": {},
   "outputs": [],
   "source": [
    "instructions = \"\"\"\n",
    "You are an assistant that helps improve and generate high-quality documentation for the project.\n",
    "\n",
    "You have access to the following tools:\n",
    "- search — Use this to explore topics in depth. Make multiple search calls if needed to gather comprehensive information.\n",
    "- read_file — Use this when code snippets are missing or when you need to retrieve the full content of a file for context.\n",
    "\n",
    "If `read_file` cannot be used or the file content is unavailable, clearly state:\n",
    "> \"Unable to verify with read_file.\"\n",
    "\n",
    "When answering a question:\n",
    "1. Provide file references for all source materials.  \n",
    "   Use this format:  \n",
    "   [{filename}](https://github.com/evidentlyai/docs/blob/main/{filename})\n",
    "2. If the topic is covered in multiple documents, cite all relevant sources.\n",
    "3. Include code examples whenever they clarify or demonstrate the concept.\n",
    "4. Be concise, accurate, and helpful — focus on clarity and usability for developers.\n",
    "5. If documentation is missing or unclear, infer from context and note that explicitly.\n",
    "\n",
    "Example Citation:\n",
    "See the full implementation in [metrics/api_reference.md](https://github.com/evidentlyai/docs/blob/main/metrics/api_reference.md).\n",
    "\"\"\".strip()"
   ]
  },
  {
   "cell_type": "code",
   "execution_count": 24,
   "id": "7b533ba1-18c2-418a-a9cc-31d5f69bf411",
   "metadata": {},
   "outputs": [],
   "source": [
    "agent_tools = Tools()\n",
    "\n",
    "agent_tools.add_tool(search)\n",
    "agent_tools.add_tool(read_file)"
   ]
  },
  {
   "cell_type": "code",
   "execution_count": 25,
   "id": "1402dec3-3a15-4de5-85ae-b73ea86a049c",
   "metadata": {},
   "outputs": [],
   "source": [
    "chat_interface = IPythonChatInterface()\n",
    "\n",
    "runner = OpenAIResponsesRunner(\n",
    "    tools=agent_tools,\n",
    "    developer_prompt=instructions,\n",
    "    chat_interface=chat_interface,\n",
    "    llm_client=OpenAIClient()\n",
    ")"
   ]
  },
  {
   "cell_type": "code",
   "execution_count": 26,
   "id": "e3d04396-4764-4a91-b055-766dacdc7177",
   "metadata": {},
   "outputs": [
    {
     "name": "stdout",
     "output_type": "stream",
     "text": [
      "You: how do I run llm as a judge evals?\n"
     ]
    },
    {
     "data": {
      "text/html": [
       "\n",
       "            <details>\n",
       "            <summary>Function call: <tt>search({\"query\":\"run llm as judge evals\"})</tt></summary>\n",
       "            <div>\n",
       "                <b>Call</b>\n",
       "                <pre>{\"query\":\"run llm as judge evals\"}</pre>\n",
       "            </div>\n",
       "            <div>\n",
       "                <b>Output</b>\n",
       "                <pre>{'type': 'function_call_output', 'call_id': 'call_D8fQezfBT3aMfypyPKosve2u', 'output': '[\\n  {\\n    \"start\": 0,\\n    \"content\": \"import CloudSignup from \\'/snippets/cloud_signup.mdx\\';\\\\nimport CreateProject from \\'/snippets/create_project.mdx\\';\\\\n\\\\nIn this tutorial, we\\'ll show how to evaluate text for custom criteria using LLM as the judge, and evaluate the LLM judge itself.\\\\n\\\\n<Info>\\\\n  **This is a local example.** You will run and explore results using the open-source Python library. At the end, we\\\\u2019ll optionally show how to upload results to the Evidently Platform for easy exploration.\\\\n</Info>\\\\n\\\\nWe\\'ll explore two ways to use an LLM as a judge:\\\\n\\\\n- **Reference-based**. Compare new responses against a reference. This is useful for regression testing or whenever you have a \\\\\"ground truth\\\\\" (approved responses) to compare against.\\\\n- **Open-ended**. Evaluate responses based on custom criteria, which helps evaluate new outputs when there\\'s no reference available.\\\\n\\\\nWe will focus on demonstrating **how to create and tune the LLM evaluator**, which you can then apply in different contexts, like regression testing or prompt comparison.\\\\n\\\\n<Info>\\\\n**Prefer videos?** We also have an extended code tutorial where we iteratively improve the prompt for LLM judge with a video walkthrough:  https://www.youtube.com/watch?v=kP_aaFnXLmY\\\\n</Info>\\\\n\\\\n## Tutorial scope\\\\n\\\\nHere\\'s what we\\'ll do:\\\\n\\\\n- **Create an evaluation dataset**. Create a toy Q&A dataset.\\\\n- **Create and run an LLM as a judge**. Design an LLM evaluator prompt.\\\\n- **Evaluate the judge**. Compare the LLM judge\\'s evaluations with manual labels.\\\\n\\\\nWe\\'ll start with the reference-based evaluator that determines whether a new response is correct (it\\'s more complex since it requires passing two columns to the prompt). Then, we\\'ll create a simpler judge focused on verbosity.\\\\n\\\\nTo complete the tutorial, you will need:\\\\n\\\\n- Basic Python knowledge.\\\\n- An OpenAI API key to use for the LLM evaluator.\\\\n\\\\nWe recommend running this tutorial in Jupyter Notebook or Google Colab to render rich HTML objects with summary results directly in a notebook cell.\\\\n\\\\n<Info>\\\\n  Run a sample notebook: [Jupyter \",\\n    \"title\": \"LLM as a judge\",\\n    \"description\": \"How to create and evaluate an LLM judge.\",\\n    \"filename\": \"examples/LLM_judge.mdx\"\\n  },\\n  {\\n    \"start\": 1000,\\n    \"content\": \"n.\\\\n\\\\n<Info>\\\\n**Prefer videos?** We also have an extended code tutorial where we iteratively improve the prompt for LLM judge with a video walkthrough:  https://www.youtube.com/watch?v=kP_aaFnXLmY\\\\n</Info>\\\\n\\\\n## Tutorial scope\\\\n\\\\nHere\\'s what we\\'ll do:\\\\n\\\\n- **Create an evaluation dataset**. Create a toy Q&A dataset.\\\\n- **Create and run an LLM as a judge**. Design an LLM evaluator prompt.\\\\n- **Evaluate the judge**. Compare the LLM judge\\'s evaluations with manual labels.\\\\n\\\\nWe\\'ll start with the reference-based evaluator that determines whether a new response is correct (it\\'s more complex since it requires passing two columns to the prompt). Then, we\\'ll create a simpler judge focused on verbosity.\\\\n\\\\nTo complete the tutorial, you will need:\\\\n\\\\n- Basic Python knowledge.\\\\n- An OpenAI API key to use for the LLM evaluator.\\\\n\\\\nWe recommend running this tutorial in Jupyter Notebook or Google Colab to render rich HTML objects with summary results directly in a notebook cell.\\\\n\\\\n<Info>\\\\n  Run a sample notebook: [Jupyter notebook](https://github.com/evidentlyai/community-examples/blob/main/tutorials/LLM_as_a_judge_tutorial_updated.ipynb) or [open it in Colab](https://colab.research.google.com/github/evidentlyai/community-examples/blob/main/tutorials/LLM_as_a_judge_tutorial_updated.ipynb).\\\\n</Info>\\\\n\\\\n## 1.  Installation and Imports\\\\n\\\\nInstall Evidently:\\\\n\\\\n```python\\\\npip install evidently\\\\n```\\\\n\\\\nImport the required modules:\\\\n\\\\n```python\\\\nimport pandas as pd\\\\nimport numpy as np\\\\n\\\\nfrom evidently import Dataset\\\\nfrom evidently import DataDefinition\\\\nfrom evidently import Report\\\\nfrom evidently import BinaryClassification\\\\nfrom evidently.descriptors import *\\\\nfrom evidently.presets import TextEvals, ValueStats, ClassificationPreset\\\\nfrom evidently.metrics import *\\\\n\\\\nfrom evidently.llm.templates import BinaryClassificationPromptTemplate\\\\n```\\\\n\\\\nPass your OpenAI key as an environment variable:\\\\n\\\\n```python\\\\nimport os\\\\nos.environ[\\\\\"OPENAI_API_KEY\\\\\"] = \\\\\"YOUR_KEY\\\\\"\\\\n```\\\\n\\\\n<Info>\\\\n**Using other evaluator LLMs**. Check the [LLM judge docs](/metric\",\\n    \"title\": \"LLM as a judge\",\\n    \"description\": \"How to create and evaluate an LLM judge.\",\\n    \"filename\": \"examples/LLM_judge.mdx\"\\n  },\\n  {\\n    \"start\": 2000,\\n    \"content\": \"notebook](https://github.com/evidentlyai/community-examples/blob/main/tutorials/LLM_as_a_judge_tutorial_updated.ipynb) or [open it in Colab](https://colab.research.google.com/github/evidentlyai/community-examples/blob/main/tutorials/LLM_as_a_judge_tutorial_updated.ipynb).\\\\n</Info>\\\\n\\\\n## 1.  Installation and Imports\\\\n\\\\nInstall Evidently:\\\\n\\\\n```python\\\\npip install evidently\\\\n```\\\\n\\\\nImport the required modules:\\\\n\\\\n```python\\\\nimport pandas as pd\\\\nimport numpy as np\\\\n\\\\nfrom evidently import Dataset\\\\nfrom evidently import DataDefinition\\\\nfrom evidently import Report\\\\nfrom evidently import BinaryClassification\\\\nfrom evidently.descriptors import *\\\\nfrom evidently.presets import TextEvals, ValueStats, ClassificationPreset\\\\nfrom evidently.metrics import *\\\\n\\\\nfrom evidently.llm.templates import BinaryClassificationPromptTemplate\\\\n```\\\\n\\\\nPass your OpenAI key as an environment variable:\\\\n\\\\n```python\\\\nimport os\\\\nos.environ[\\\\\"OPENAI_API_KEY\\\\\"] = \\\\\"YOUR_KEY\\\\\"\\\\n```\\\\n\\\\n<Info>\\\\n**Using other evaluator LLMs**. Check the [LLM judge docs](/metrics/customize_llm_judge#change-the-evaluator-llm) to see how you can select a different evaluator LLM. \\\\n</Info>\\\\n\\\\n## 2.  Create the Dataset\\\\n\\\\nFirst, we\\'ll create a toy Q&A dataset with customer support question that includes:\\\\n\\\\n- **Questions**. The inputs sent to the LLM app.\\\\n- **Target responses**. The approved responses you consider accurate.\\\\n- **New responses**. Imitated new responses from the system.\\\\n- **Manual labels with explanation**. Labels that say if response is correct or not.\\\\n\\\\nWhy add the labels? It\\'s a good idea to be the judge yourself before you write a prompt. This helps:\\\\n\\\\n- Formulate better criteria. You discover nuances that help you write a better prompt.\\\\n- Get the \\\\\"ground truth\\\\\". You can use it to evaluate the quality of the LLM judge.\\\\n\\\\nUltimately, an LLM judge is a small ML system, and it needs its own evals\\\\\\\\!\\\\n\\\\n**Generate the dataframe**. Here\\'s how you can create this dataset in one go:\\\\n\\\\n<Accordion title=\\\\\"Toy data to run the example\\\\\" defaultOpen={false}>\\\\n  ```python\\\\n  \",\\n    \"title\": \"LLM as a judge\",\\n    \"description\": \"How to create and evaluate an LLM judge.\",\\n    \"filename\": \"examples/LLM_judge.mdx\"\\n  },\\n  {\\n    \"start\": 20000,\\n    \"content\": \"openai\\\\\",\\\\n            model = \\\\\"gpt-4o-mini\\\\\",\\\\n            alias=\\\\\"Verbosity\\\\\")\\\\n    ])\\\\n```\\\\n\\\\nRun the Report and view the summary results:\\\\u00a0\\\\n\\\\n```python\\\\nreport = Report([\\\\n    TextEvals()\\\\n])\\\\n\\\\nmy_eval = report.run(eval_dataset, None)\\\\nmy_eval\\\\n```\\\\n\\\\n![](/images/examples/llm_judge_tutorial_verbosity-min.png)\\\\n\\\\nYou can also view the dataframe using `eval_dataset.as_dataframe()`\\\\n\\\\n<Info>\\\\n  Don\\'t fully agree with the results? Use these labels as a starting point, edit the decisions where you see fit - now you\\'ve got your golden dataset\\\\\\\\! Next, iterate on your judge prompt. You can also try different evaluator LLMs to see which one does the job better. [How to change an LLM](/metrics/customize_llm_judge#change-the-evaluator-llm).\\\\n</Info>\\\\n\\\\n## What\\'s next?\\\\n\\\\nThe LLM judge itself is just one part of your overall evaluation framework. You can integrate this evaluator into different workflows, such as testing your LLM outputs after changing a prompt.\\\\n\\\\nTo be able to easily run and compare evals, systematically track the results, and interact with your evaluation dataset, you can use the Evidently Cloud platform.\\\\n\\\\n### Set up Evidently Cloud\\\\n\\\\n<CloudSignup />\\\\n\\\\nImport the components to connect with Evidently Cloud:\\\\n\\\\n```python\\\\nfrom evidently.ui.workspace import CloudWorkspace\\\\n```\\\\n\\\\n### Create a Project\\\\n\\\\n<CreateProject />\\\\n\\\\n### Send your eval\\\\n\\\\nSince you already created the eval, you can simply upload it to the Evidently Cloud.\\\\n\\\\n```python\\\\nws.add_run(project.id, my_eval, include_data=True)\\\\n```\\\\n\\\\nYou can then go to the Evidently Cloud, open your Project and explore the Report.\\\\n\\\\n![](/images/examples/llm_judge_tutorial_cloud-min.png)\\\\n\\\\n<Info>\\\\n  You can also [create the LLM judges with no-code](/docs/platform/evals_no_code).\\\\n</Info>\\\\n\\\\n# Reference documentation\\\\n\\\\nSee this page for complete [documentation on LLM judges](/metrics/customize_llm_judge).\",\\n    \"title\": \"LLM as a judge\",\\n    \"description\": \"How to create and evaluate an LLM judge.\",\\n    \"filename\": \"examples/LLM_judge.mdx\"\\n  },\\n  {\\n    \"start\": 19000,\\n    \"content\": \"w to set up the prompt template for verbosity:\\\\n\\\\n```python\\\\nverbosity = BinaryClassificationPromptTemplate(\\\\n        criteria = \\\\\"\\\\\"\\\\\"Conciseness refers to the quality of being brief and to the point, while still providing all necessary information.\\\\n            A concise response should:\\\\n            - Provide the necessary information without unnecessary details or repetition.\\\\n            - Be brief yet comprehensive enough to address the query.\\\\n            - Use simple and direct language to convey the message effectively.\\\\\"\\\\\"\\\\\",\\\\n        target_category=\\\\\"concise\\\\\",\\\\n        non_target_category=\\\\\"verbose\\\\\",\\\\n        uncertainty=\\\\\"unknown\\\\\",\\\\n        include_reasoning=True,\\\\n        pre_messages=[(\\\\\"system\\\\\", \\\\\"You are an expert text evaluator. You will be given a text of the response to a user question.\\\\\")],\\\\n        )\\\\n```\\\\n\\\\nAdd this new descriptor to our existing dataset:\\\\n\\\\n```python\\\\neval_dataset.add_descriptors(descriptors=[\\\\n    LLMEval(\\\\\"new_response\\\\\",\\\\n            template=verbosity,\\\\n            provider = \\\\\"openai\\\\\",\\\\n            model = \\\\\"gpt-4o-mini\\\\\",\\\\n            alias=\\\\\"Verbosity\\\\\")\\\\n    ])\\\\n```\\\\n\\\\nRun the Report and view the summary results:\\\\u00a0\\\\n\\\\n```python\\\\nreport = Report([\\\\n    TextEvals()\\\\n])\\\\n\\\\nmy_eval = report.run(eval_dataset, None)\\\\nmy_eval\\\\n```\\\\n\\\\n![](/images/examples/llm_judge_tutorial_verbosity-min.png)\\\\n\\\\nYou can also view the dataframe using `eval_dataset.as_dataframe()`\\\\n\\\\n<Info>\\\\n  Don\\'t fully agree with the results? Use these labels as a starting point, edit the decisions where you see fit - now you\\'ve got your golden dataset\\\\\\\\! Next, iterate on your judge prompt. You can also try different evaluator LLMs to see which one does the job better. [How to change an LLM](/metrics/customize_llm_judge#change-the-evaluator-llm).\\\\n</Info>\\\\n\\\\n## What\\'s next?\\\\n\\\\nThe LLM judge itself is just one part of your overall evaluation framework. You can integrate this evaluator into different workflows, such as testing your LLM outputs after changing a prompt.\\\\n\\\\nTo be able to easily run and compare evals, systematically tr\",\\n    \"title\": \"LLM as a judge\",\\n    \"description\": \"How to create and evaluate an LLM judge.\",\\n    \"filename\": \"examples/LLM_judge.mdx\"\\n  }\\n]'}</pre>\n",
       "            </div>\n",
       "\n",
       "            </details>\n",
       "        "
      ],
      "text/plain": [
       "<IPython.core.display.HTML object>"
      ]
     },
     "metadata": {},
     "output_type": "display_data"
    },
    {
     "data": {
      "text/html": [
       "\n",
       "            <details>\n",
       "            <summary>Function call: <tt>read_file({\"filename\":\"examples/LLM_judge.mdx\"})</tt></summary>\n",
       "            <div>\n",
       "                <b>Call</b>\n",
       "                <pre>{\"filename\":\"examples/LLM_judge.mdx\"}</pre>\n",
       "            </div>\n",
       "            <div>\n",
       "                <b>Output</b>\n",
       "                <pre>{'type': 'function_call_output', 'call_id': 'call_lQbr7uXxLp8MU3LKJNdlREZ3', 'output': '\"import CloudSignup from \\'/snippets/cloud_signup.mdx\\';\\\\nimport CreateProject from \\'/snippets/create_project.mdx\\';\\\\n\\\\nIn this tutorial, we\\'ll show how to evaluate text for custom criteria using LLM as the judge, and evaluate the LLM judge itself.\\\\n\\\\n<Info>\\\\n  **This is a local example.** You will run and explore results using the open-source Python library. At the end, we\\\\u2019ll optionally show how to upload results to the Evidently Platform for easy exploration.\\\\n</Info>\\\\n\\\\nWe\\'ll explore two ways to use an LLM as a judge:\\\\n\\\\n- **Reference-based**. Compare new responses against a reference. This is useful for regression testing or whenever you have a \\\\\"ground truth\\\\\" (approved responses) to compare against.\\\\n- **Open-ended**. Evaluate responses based on custom criteria, which helps evaluate new outputs when there\\'s no reference available.\\\\n\\\\nWe will focus on demonstrating **how to create and tune the LLM evaluator**, which you can then apply in different contexts, like regression testing or prompt comparison.\\\\n\\\\n<Info>\\\\n**Prefer videos?** We also have an extended code tutorial where we iteratively improve the prompt for LLM judge with a video walkthrough:  https://www.youtube.com/watch?v=kP_aaFnXLmY\\\\n</Info>\\\\n\\\\n## Tutorial scope\\\\n\\\\nHere\\'s what we\\'ll do:\\\\n\\\\n- **Create an evaluation dataset**. Create a toy Q&A dataset.\\\\n- **Create and run an LLM as a judge**. Design an LLM evaluator prompt.\\\\n- **Evaluate the judge**. Compare the LLM judge\\'s evaluations with manual labels.\\\\n\\\\nWe\\'ll start with the reference-based evaluator that determines whether a new response is correct (it\\'s more complex since it requires passing two columns to the prompt). Then, we\\'ll create a simpler judge focused on verbosity.\\\\n\\\\nTo complete the tutorial, you will need:\\\\n\\\\n- Basic Python knowledge.\\\\n- An OpenAI API key to use for the LLM evaluator.\\\\n\\\\nWe recommend running this tutorial in Jupyter Notebook or Google Colab to render rich HTML objects with summary results directly in a notebook cell.\\\\n\\\\n<Info>\\\\n  Run a sample notebook: [Jupyter notebook](https://github.com/evidentlyai/community-examples/blob/main/tutorials/LLM_as_a_judge_tutorial_updated.ipynb) or [open it in Colab](https://colab.research.google.com/github/evidentlyai/community-examples/blob/main/tutorials/LLM_as_a_judge_tutorial_updated.ipynb).\\\\n</Info>\\\\n\\\\n## 1.  Installation and Imports\\\\n\\\\nInstall Evidently:\\\\n\\\\n```python\\\\npip install evidently\\\\n```\\\\n\\\\nImport the required modules:\\\\n\\\\n```python\\\\nimport pandas as pd\\\\nimport numpy as np\\\\n\\\\nfrom evidently import Dataset\\\\nfrom evidently import DataDefinition\\\\nfrom evidently import Report\\\\nfrom evidently import BinaryClassification\\\\nfrom evidently.descriptors import *\\\\nfrom evidently.presets import TextEvals, ValueStats, ClassificationPreset\\\\nfrom evidently.metrics import *\\\\n\\\\nfrom evidently.llm.templates import BinaryClassificationPromptTemplate\\\\n```\\\\n\\\\nPass your OpenAI key as an environment variable:\\\\n\\\\n```python\\\\nimport os\\\\nos.environ[\\\\\"OPENAI_API_KEY\\\\\"] = \\\\\"YOUR_KEY\\\\\"\\\\n```\\\\n\\\\n<Info>\\\\n**Using other evaluator LLMs**. Check the [LLM judge docs](/metrics/customize_llm_judge#change-the-evaluator-llm) to see how you can select a different evaluator LLM. \\\\n</Info>\\\\n\\\\n## 2.  Create the Dataset\\\\n\\\\nFirst, we\\'ll create a toy Q&A dataset with customer support question that includes:\\\\n\\\\n- **Questions**. The inputs sent to the LLM app.\\\\n- **Target responses**. The approved responses you consider accurate.\\\\n- **New responses**. Imitated new responses from the system.\\\\n- **Manual labels with explanation**. Labels that say if response is correct or not.\\\\n\\\\nWhy add the labels? It\\'s a good idea to be the judge yourself before you write a prompt. This helps:\\\\n\\\\n- Formulate better criteria. You discover nuances that help you write a better prompt.\\\\n- Get the \\\\\"ground truth\\\\\". You can use it to evaluate the quality of the LLM judge.\\\\n\\\\nUltimately, an LLM judge is a small ML system, and it needs its own evals\\\\\\\\!\\\\n\\\\n**Generate the dataframe**. Here\\'s how you can create this dataset in one go:\\\\n\\\\n<Accordion title=\\\\\"Toy data to run the example\\\\\" defaultOpen={false}>\\\\n  ```python\\\\n  data = [\\\\n    [\\\\\"Hi there, how do I reset my password?\\\\\",\\\\n     \\\\\"To reset your password, click on \\'Forgot Password\\' on the login page and follow the instructions sent to your registered email.\\\\\",\\\\n     \\\\\"To change your password, select \\'Forgot Password\\' on the login screen and follow the steps sent to your registered email address. If you don\\'t receive the email, check your spam folder or contact support for assistance.\\\\\",\\\\n     \\\\\"incorrect\\\\\", \\\\\"adds new information (contact support)\\\\\"],\\\\n  \\\\n    [\\\\\"Where can I find my transaction history?\\\\\",\\\\n     \\\\\"You can view your transaction history by logging into your account and navigating to the \\'Transaction History\\' section. Here, you can see all your past transactions. You can also filter the transactions by date or type for easier viewing.\\\\\",\\\\n     \\\\\"Log into your account and go to \\'Transaction History\\' to see all your past transactions. In this section, you can view and filter your transactions by date or type. This allows you to find specific transactions quickly and easily.\\\\\",\\\\n     \\\\\"correct\\\\\", \\\\\"\\\\\"],\\\\n  \\\\n    [\\\\\"How do I add another user to my account?\\\\\",\\\\n     \\\\\"I am afraid it is not currently possible to add multiple users to the account. Our system supports only one user per account for security reasons. We recommend creating separate accounts for different users.\\\\\",\\\\n     \\\\\"To add a secondary user, go to \\'Account Settings\\', select \\'Manage Users\\', and enter the details of the person you want to add. You can set permissions for their access, deciding what they can and cannot do within the account.\\\\\",\\\\n     \\\\\"incorrect\\\\\", \\\\\"contradiction (incorrect answer)\\\\\"],\\\\n  \\\\n    [\\\\\"Is it possible to link multiple bank accounts?\\\\\",\\\\n     \\\\\"Yes, you can link multiple bank accounts by going to \\'Account Settings\\' in the menu and selecting \\'Add Bank Account\\'. Follow the prompts to add your bank account details. Make sure to verify each bank account by following the verification process.\\\\\",\\\\n     \\\\\"You can add multiple bank accounts by visiting \\'Accounts\\' in the menu and choosing \\'Add Bank Account\\'. Enter your bank details as prompted and complete the verification process for each account to link them successfully.\\\\\",\\\\n     \\\\\"incorrect\\\\\", \\\\\"contradiction (incorrect menu item)\\\\\"],\\\\n  \\\\n    [\\\\\"Can I use your service for cryptocurrency transactions?\\\\\",\\\\n     \\\\\"Currently, our service does not support cryptocurrency transactions. Please check our website for updates regarding this feature. We are continuously working to expand our services and may include this in the future.\\\\\",\\\\n     \\\\\"Currently, our service does not support cryptocurrency transactions. Please check our website for updates regarding this feature. We are continuously working to expand our services and may include this in the future.\\\\\",\\\\n     \\\\\"correct\\\\\", \\\\\"\\\\\"],\\\\n  \\\\n    [\\\\\"Hi, can I get a detailed report of my monthly transactions?\\\\\",\\\\n     \\\\\"Yes, you can generate a detailed monthly report of your transactions by logging into your account, going to \\'Transaction History\\', and selecting \\'Generate Report\\'. You can customize the report by selecting specific dates or transaction types.\\\\\",\\\\n     \\\\\"You can get a detailed monthly report by logging into your account, navigating to \\'Transaction History\\', and clicking on \\'Generate Report\\'. Customize your report by choosing the date range and types of transactions you want to include.\\\\\",\\\\n     \\\\\"correct\\\\\", \\\\\"\\\\\"],\\\\n  \\\\n    [\\\\\"I am traveling to the US. Can I use the app there?\\\\\",\\\\n     \\\\\"Yes, you can use the app in the US just like you do at home. Ensure you have an internet connection. You may also want to update your app to the latest version before traveling for optimal performance.\\\\\",\\\\n     \\\\\"The app will work in the US without any issues. Just make sure you have access to the internet. For the best experience, update your app to the latest version before you travel.\\\\\",\\\\n     \\\\\"correct\\\\\", \\\\\"\\\\\"],\\\\n  \\\\n    [\\\\\"How do I link my payment account to a new mobile number?\\\\\",\\\\n     \\\\\"To link a new mobile number, log in to your account, go to \\'Account Settings\\', select \\'Mobile Number\\', and follow the instructions to verify your new number. You will need to enter the new number and verify it via a code sent to your phone.\\\\\",\\\\n     \\\\\"To add a new number, navigate to the \\'Account Settings\\' section, select \\'Mobile Number\\' and proceed with the steps to add and confirm the new number. Enter the new mobile number and verify it using the code sent to your phone.\\\\\",\\\\n     \\\\\"correct\\\\\", \\\\\"\\\\\"],\\\\n  \\\\n    [\\\\\"Can I receive notifications for transactions in real-time?\\\\\",\\\\n     \\\\\"Yes, you can enable real-time notifications for transactions by going to \\'Account Settings\\', then \\'Notifications\\', and turning on \\'Transaction Alerts\\'. You can choose to receive alerts via SMS, email, or push notifications on your mobile device.\\\\\",\\\\n     \\\\\"To receive real-time notifications for transactions, log into your account, go to \\'Account Settings\\', select \\'Notifications\\', and enable \\'Transaction Alerts\\'. Choose your preferred notification method between email or push notifications.\\\\\",\\\\n     \\\\\"incorrect\\\\\", \\\\\"omits information (sms notification)\\\\\"],\\\\n  \\\\n    [\\\\\"Hey, can I set up automatic transfers to my savings account?\\\\\",\\\\n     \\\\\"Yes, you can set up automatic transfers by going to \\'Account Settings\\', selecting \\'Automatic Transfers\\', and specifying the amount and frequency. You can choose to transfer weekly, bi-weekly, or monthly. Make sure to save the settings to activate the transfers.\\\\\",\\\\n     \\\\\"You can arrange automatic transfers by going to \\'Account Settings\\', choosing \\'Automatic Transfers\\', and setting the desired amount and frequency. Don\\'t forget to save the changes to enable the automatic transfers.\\\\\",\\\\n     \\\\\"incorrect\\\\\", \\\\\"omits information (limited frequency of transfers available)\\\\\"],\\\\n  \\\\n    [\\\\\"Hi there, how do I reset my password?\\\\\",\\\\n     \\\\\"To reset your password, click on \\'Forgot Password\\' on the login page and follow the instructions sent to your registered email.\\\\\",\\\\n     \\\\\"To change your password, select \\'Forgot Password\\' on the login screen and follow the steps sent to your registered email address. If you don\\'t receive the email, check your spam folder.\\\\\",\\\\n     \\\\\"correct\\\\\", \\\\\"\\\\\"],\\\\n  \\\\n    [\\\\\"How can I update my billing address?\\\\\",\\\\n     \\\\\"To update your billing address, log into your account, go to \\'Account Settings\\', select \\'Billing Information\\', and enter your new address. Make sure to save the changes once you are done.\\\\\",\\\\n     \\\\\"To update your billing address, log into your account, navigate to \\'Account Settings\\', and select \\'Billing Information\\'. Enter your new address and ensure all fields are filled out correctly. Save the changes, and you will receive a confirmation email with the updated address details.\\\\\",\\\\n     \\\\\"incorrect\\\\\", \\\\\"adds new information (confirmation email)\\\\\"],\\\\n  \\\\n    [\\\\\"How do I contact customer support?\\\\\",\\\\n     \\\\\"You can contact customer support by logging into your account, going to the \\'Help\\' section, and selecting \\'Contact Us\\'. You can choose to reach us via email, phone, or live chat for immediate assistance.\\\\\",\\\\n     \\\\\"To contact customer support, log into your account and go to the \\'Help\\' section. Select \\'Contact Us\\' and choose your preferred method: email, phone, or live chat. Our support team is available 24/7 to assist you with any issues. Additionally, you can find a FAQ section that may answer your questions without needing to contact support.\\\\\",\\\\n     \\\\\"incorrect\\\\\", \\\\\"adds new information (24/7 availability, FAQ section)\\\\\"],\\\\n  \\\\n    [\\\\\"What should I do if my card is lost or stolen?\\\\\",\\\\n     \\\\\"If your card is lost or stolen, immediately log into your account, go to \\'Card Management\\', and select \\'Report Lost/Stolen\\'. Follow the instructions to block your card and request a replacement. You can also contact our support team for assistance.\\\\\",\\\\n     \\\\\"If your card is lost or stolen, navigate to \\'Card Management\\' in your account, and select \\'Report Lost/Stolen\\'. Follow the prompts to block your card and request a replacement. Additionally, you can contact our support team for help.\\\\\",\\\\n     \\\\\"correct\\\\\", \\\\\"\\\\\"],\\\\n  \\\\n    [\\\\\"How do I enable two-factor authentication (2FA)?\\\\\",\\\\n     \\\\\"To enable two-factor authentication, log into your account, go to \\'Security Settings\\', and select \\'Enable 2FA\\'. Follow the instructions to link your account with a 2FA app like Google Authenticator. Once set up, you will need to enter a code from the app each time you log in.\\\\\",\\\\n     \\\\\"To enable two-factor authentication, log into your account, navigate to \\'Security Settings\\', and choose \\'Enable 2FA\\'. Follow the on-screen instructions to link your account with a 2FA app such as Google Authenticator. After setup, each login will require a code from the app. Additionally, you can set up backup codes in case you lose access to the 2FA app.\\\\\",\\\\n     \\\\\"incorrect\\\\\", \\\\\"adds new information (backup codes)\\\\\"]\\\\n  ]\\\\n  \\\\n  columns = [\\\\\"question\\\\\", \\\\\"target_response\\\\\", \\\\\"new_response\\\\\", \\\\\"label\\\\\", \\\\\"comment\\\\\"]\\\\n  \\\\n  golden_dataset = pd.DataFrame(data, columns=columns)\\\\n  ```\\\\n</Accordion>\\\\n\\\\n<Note>\\\\n  **Synthetic data**. You can also generate example inputs for your LLM app using [Evidently Platform](/docs/platform/datasets_generate).\\\\n</Note>\\\\n\\\\n**Create an Evidently dataset object.** Pass the dataframe and [map the column types](/docs/library/data_definition):\\\\n\\\\n```python\\\\ndefinition = DataDefinition(\\\\n    text_columns=[\\\\\"question\\\\\", \\\\\"target_response\\\\\", \\\\\"new_response\\\\\"],\\\\n    categorical_columns=[\\\\\"label\\\\\"]\\\\n    )\\\\n\\\\neval_dataset = Dataset.from_pandas(\\\\n    golden_dataset,\\\\n    data_definition=definition)\\\\n```\\\\n\\\\nTo preview the dataset:\\\\n\\\\n```python\\\\npd.set_option(\\'display.max_colwidth\\', None)\\\\ngolden_dataset.head(5)\\\\n```\\\\n\\\\n![](/images/examples/llm_judge_tutorial_data_preview-min.png)\\\\n\\\\nHere\\'s the distribution of examples: we have both correct and incorrect responses.\\\\n\\\\n![](/images/examples/llm_judge_tutorial_judge_label_dist-min.png)\\\\n\\\\n<Accordion title=\\\\\"How to preview\\\\\" defaultOpen={false}>\\\\n  Run this to preview the distribution of the column.\\\\n\\\\n  ```python\\\\n  report = Report([\\\\n    ValueStats(column=\\\\\"label\\\\\")\\\\n  ])\\\\n  \\\\n  my_eval = report.run(eval_dataset, None)\\\\n  my_eval\\\\n  \\\\n  # my_eval.dict()\\\\n  # my_eval.json()\\\\n  ```\\\\n</Accordion>\\\\n\\\\n## 3. Correctness evaluator\\\\n\\\\nNow it\\'s time to set up an LLM judge! We\\'ll start with an evaluator that checks if responses are correct compared to the reference. The goal is to match the quality of our manual labels.\\\\n\\\\n**Configure the evaluator prompt**. We\\'ll use the LLMEval [Descriptor](/docs/library/descriptors) to create a custom binary evaluator. Here\\'s how to define the prompt template for correctness:\\\\n\\\\n```python\\\\ncorrectness = BinaryClassificationPromptTemplate(\\\\n        criteria = \\\\\"\\\\\"\\\\\"An ANSWER is correct when it is the same as the REFERENCE in all facts and details, even if worded differently.\\\\n        The ANSWER is incorrect if it contradicts the REFERENCE, adds additional claims, omits or changes details.\\\\n        REFERENCE:\\\\n        =====\\\\n        {target_response}\\\\n        =====\\\\\"\\\\\"\\\\\",\\\\n        target_category=\\\\\"incorrect\\\\\",\\\\n        non_target_category=\\\\\"correct\\\\\",\\\\n        uncertainty=\\\\\"unknown\\\\\",\\\\n        include_reasoning=True,\\\\n        pre_messages=[(\\\\\"system\\\\\", \\\\\"You are an expert evaluator. You will be given an ANSWER and REFERENCE\\\\\")],\\\\n        )\\\\n```\\\\n\\\\n<Info>\\\\n  The **Binary Classification** template (check [docs](/metrics/customize_llm_judge)) instructs an LLM to classify the input into two classes and add reasoning. You don\\'t need to ask for these details explicitly, or worry about parsing the output structure \\\\u2014 that\\'s built into the template. You only need to add the criteria. You can also use a multi-class template.\\\\n</Info>\\\\n\\\\nIn this example, we\\'ve set up the prompt to be strict (\\\\\"all fact and details\\\\\"). You can write it differently. This flexibility is one of the key benefits of creating a custom judge.\\\\n\\\\n**Score your data**. To add this new descriptor to your dataset, run:\\\\n\\\\n```python\\\\neval_dataset.add_descriptors(descriptors=[\\\\n    LLMEval(\\\\\"new_response\\\\\",\\\\n            template=correctness,\\\\n            provider = \\\\\"openai\\\\\",\\\\n            model = \\\\\"gpt-4o-mini\\\\\",\\\\n            alias=\\\\\"Correctness\\\\\",\\\\n            additional_columns={\\\\\"target_response\\\\\": \\\\\"target_response\\\\\"}),\\\\n    ])\\\\n```\\\\n\\\\n**Preview the results**. You can view the scored dataset in Python. This will show a DataFrame with newly added scores and explanations.\\\\n\\\\n```python\\\\neval_dataset.as_dataframe()\\\\n```\\\\n\\\\n![](/images/examples/llm_judge_tutorial_judge_scored_data-min.png)\\\\n\\\\n<Info>\\\\n  **Note**: your explanations will vary since LLMs are non-deterministic.\\\\n</Info>\\\\n\\\\nIf you want, you can also add the column that will help you easily sort and find all error where the LLM-judged label is different from the ground truth label.\\\\n\\\\n```python\\\\neval_dataset.add_descriptors(descriptors=[\\\\n    ExactMatch(columns=[\\\\\"label\\\\\", \\\\\"Correctness\\\\\"], alias=\\\\\"Judge_match\\\\\")])\\\\n```\\\\n\\\\n**Get a Report.** Summarize the result by generating an Evidently Report.\\\\n\\\\n```python\\\\nreport = Report([\\\\n    TextEvals()\\\\n])\\\\n\\\\nmy_eval = report.run(eval_dataset, None)\\\\nmy_eval\\\\n```\\\\n\\\\nThis will render an HTML report in the notebook cell. You can use other [export options](/docs/library/output_formats), like `as_dict()` for a Python dictionary output.\\\\n\\\\n![](/images/examples/llm_judge_tutorial_report-min.png)\\\\n\\\\nSince we already performed exact matching, you can see the crude accuracy of our judge. However, accuracy is not always the best metric. In this case, we might be more interested in recall: we want to make sure that the judge does not miss any \\\\\"incorrect\\\\\" answers .\\\\n\\\\n## 4. Evaluate the LLM Eval quality\\\\n\\\\nThis part is a bit meta: we\\'re going to evaluate the quality of our LLM evaluator itself\\\\\\\\! We can treat it as a simple **binary classification** problem.\\\\n\\\\n**Data definition**. To evaluate the classification quality, we need to map the structure of the dataset accordingly first. The column with the manual label is the \\\\\"target\\\\\", and the LLM-judge response is the \\\\\"prediction\\\\\":\\\\n\\\\n```python\\\\ndf=eval_dataset.as_dataframe()\\\\n\\\\ndefinition_2 = DataDefinition(\\\\n    classification=[BinaryClassification(\\\\n        target=\\\\\"label\\\\\",\\\\n        prediction_labels=\\\\\"Correctness\\\\\",\\\\n        pos_label = \\\\\"incorrect\\\\\")],\\\\n    categorical_columns=[\\\\\"label\\\\\", \\\\\"Correctness\\\\\"])\\\\n\\\\nclass_dataset = Dataset.from_pandas(\\\\n    pd.DataFrame(df),\\\\n    data_definition=definition_2)\\\\n```\\\\n\\\\n<Info>\\\\n  `Pos_label` refers to the class that is treated as the target (\\\\\"what we want to predict better\\\\\") for metrics like precision, recall, F1-score.\\\\n</Info>\\\\n\\\\n**Get a Report**. Let\\'s use a`ClassificationPreset()` that combines several classification metrics:\\\\n\\\\n```python\\\\nreport = Report([\\\\n    ClassificationPreset()\\\\n])\\\\n\\\\nmy_eval = report.run(class_dataset, None)\\\\nmy_eval\\\\n\\\\n# or my_eval.as_dict()\\\\n```\\\\n\\\\nWe can now get a well-rounded evaluation and explore the confusion matrix. We have one type of error each: overall the results are pretty good\\\\\\\\! You can also refine the prompt to try to improve them.\\\\n\\\\n![](/images/examples/llm_judge_tutorial_conf_matrix-min.png)\\\\n\\\\n## 5. Verbosity evaluator\\\\n\\\\nNext, let\\\\u2019s create a simpler verbosity judge. It will check whether the responses are concise and to the point. This only requires evaluating one output column: such checks are perfect for production evaluations where you don\\\\u2019t have a reference answer.\\\\n\\\\nHere\\'s how to set up the prompt template for verbosity:\\\\n\\\\n```python\\\\nverbosity = BinaryClassificationPromptTemplate(\\\\n        criteria = \\\\\"\\\\\"\\\\\"Conciseness refers to the quality of being brief and to the point, while still providing all necessary information.\\\\n            A concise response should:\\\\n            - Provide the necessary information without unnecessary details or repetition.\\\\n            - Be brief yet comprehensive enough to address the query.\\\\n            - Use simple and direct language to convey the message effectively.\\\\\"\\\\\"\\\\\",\\\\n        target_category=\\\\\"concise\\\\\",\\\\n        non_target_category=\\\\\"verbose\\\\\",\\\\n        uncertainty=\\\\\"unknown\\\\\",\\\\n        include_reasoning=True,\\\\n        pre_messages=[(\\\\\"system\\\\\", \\\\\"You are an expert text evaluator. You will be given a text of the response to a user question.\\\\\")],\\\\n        )\\\\n```\\\\n\\\\nAdd this new descriptor to our existing dataset:\\\\n\\\\n```python\\\\neval_dataset.add_descriptors(descriptors=[\\\\n    LLMEval(\\\\\"new_response\\\\\",\\\\n            template=verbosity,\\\\n            provider = \\\\\"openai\\\\\",\\\\n            model = \\\\\"gpt-4o-mini\\\\\",\\\\n            alias=\\\\\"Verbosity\\\\\")\\\\n    ])\\\\n```\\\\n\\\\nRun the Report and view the summary results:\\\\u00a0\\\\n\\\\n```python\\\\nreport = Report([\\\\n    TextEvals()\\\\n])\\\\n\\\\nmy_eval = report.run(eval_dataset, None)\\\\nmy_eval\\\\n```\\\\n\\\\n![](/images/examples/llm_judge_tutorial_verbosity-min.png)\\\\n\\\\nYou can also view the dataframe using `eval_dataset.as_dataframe()`\\\\n\\\\n<Info>\\\\n  Don\\'t fully agree with the results? Use these labels as a starting point, edit the decisions where you see fit - now you\\'ve got your golden dataset\\\\\\\\! Next, iterate on your judge prompt. You can also try different evaluator LLMs to see which one does the job better. [How to change an LLM](/metrics/customize_llm_judge#change-the-evaluator-llm).\\\\n</Info>\\\\n\\\\n## What\\'s next?\\\\n\\\\nThe LLM judge itself is just one part of your overall evaluation framework. You can integrate this evaluator into different workflows, such as testing your LLM outputs after changing a prompt.\\\\n\\\\nTo be able to easily run and compare evals, systematically track the results, and interact with your evaluation dataset, you can use the Evidently Cloud platform.\\\\n\\\\n### Set up Evidently Cloud\\\\n\\\\n<CloudSignup />\\\\n\\\\nImport the components to connect with Evidently Cloud:\\\\n\\\\n```python\\\\nfrom evidently.ui.workspace import CloudWorkspace\\\\n```\\\\n\\\\n### Create a Project\\\\n\\\\n<CreateProject />\\\\n\\\\n### Send your eval\\\\n\\\\nSince you already created the eval, you can simply upload it to the Evidently Cloud.\\\\n\\\\n```python\\\\nws.add_run(project.id, my_eval, include_data=True)\\\\n```\\\\n\\\\nYou can then go to the Evidently Cloud, open your Project and explore the Report.\\\\n\\\\n![](/images/examples/llm_judge_tutorial_cloud-min.png)\\\\n\\\\n<Info>\\\\n  You can also [create the LLM judges with no-code](/docs/platform/evals_no_code).\\\\n</Info>\\\\n\\\\n# Reference documentation\\\\n\\\\nSee this page for complete [documentation on LLM judges](/metrics/customize_llm_judge).\"'}</pre>\n",
       "            </div>\n",
       "\n",
       "            </details>\n",
       "        "
      ],
      "text/plain": [
       "<IPython.core.display.HTML object>"
      ]
     },
     "metadata": {},
     "output_type": "display_data"
    },
    {
     "data": {
      "text/html": [
       "\n",
       "            <div>\n",
       "                <div><b>Assistant:</b></div>\n",
       "                <div><p>To run an LLM as a judge for evaluations, you can follow these steps outlined in the tutorial:</p>\n",
       "<h3>Overview</h3>\n",
       "<p>You will create an evaluation system using a Language Model (LLM) to assess the quality of responses based on custom criteria. The process involves:</p>\n",
       "<ol>\n",
       "<li><strong>Creating an Evaluation Dataset</strong>: A sample Q&amp;A dataset.</li>\n",
       "<li><strong>Running an LLM as a Judge</strong>: Design evaluator prompts.</li>\n",
       "<li><strong>Evaluating the Judge</strong>: Compare LLM assessments with manual labels.</li>\n",
       "</ol>\n",
       "<h3>Requirements</h3>\n",
       "<ul>\n",
       "<li>Basic knowledge of Python.</li>\n",
       "<li>An OpenAI API key.</li>\n",
       "</ul>\n",
       "<h3>Steps to Set Up</h3>\n",
       "<ol>\n",
       "<li><p><strong>Installation</strong>:\n",
       "Install the Evidently library:</p>\n",
       "<pre><code class=\"language-bash\">pip install evidently\n",
       "</code></pre>\n",
       "</li>\n",
       "<li><p><strong>Import Required Modules</strong>:</p>\n",
       "<pre><code class=\"language-python\">import pandas as pd\n",
       "import numpy as np\n",
       "from evidently import Dataset, DataDefinition, Report, BinaryClassification\n",
       "from evidently.llm.templates import BinaryClassificationPromptTemplate\n",
       "</code></pre>\n",
       "</li>\n",
       "<li><p><strong>Set Up the OpenAI API Key</strong>:</p>\n",
       "<pre><code class=\"language-python\">import os\n",
       "os.environ[&quot;OPENAI_API_KEY&quot;] = &quot;YOUR_KEY&quot;\n",
       "</code></pre>\n",
       "</li>\n",
       "<li><p><strong>Create the Dataset</strong>:\n",
       "Construct a toy Q&amp;A dataset:</p>\n",
       "<pre><code class=\"language-python\">data = [\n",
       "    # Add data tuples with questions, target responses, new responses, labels, and comments.\n",
       "]\n",
       "\n",
       "columns = [&quot;question&quot;, &quot;target_response&quot;, &quot;new_response&quot;, &quot;label&quot;, &quot;comment&quot;]\n",
       "golden_dataset = pd.DataFrame(data, columns=columns)\n",
       "\n",
       "definition = DataDefinition(\n",
       "    text_columns=[&quot;question&quot;, &quot;target_response&quot;, &quot;new_response&quot;],\n",
       "    categorical_columns=[&quot;label&quot;]\n",
       ")\n",
       "\n",
       "eval_dataset = Dataset.from_pandas(golden_dataset, data_definition=definition)\n",
       "</code></pre>\n",
       "</li>\n",
       "<li><p><strong>Set Up the LLM Judge</strong>:\n",
       "Create evaluators for correctness and verbosity:</p>\n",
       "<pre><code class=\"language-python\">correctness = BinaryClassificationPromptTemplate(\n",
       "    criteria=&quot;An ANSWER is correct when it is the same as the REFERENCE in all facts and details...&quot;,\n",
       "    target_category=&quot;incorrect&quot;,\n",
       "    non_target_category=&quot;correct&quot;,\n",
       "    uncertainty=&quot;unknown&quot;,\n",
       "    include_reasoning=True,\n",
       "    pre_messages=[(&quot;system&quot;, &quot;You are an expert evaluator...&quot;)]\n",
       ")\n",
       "\n",
       "eval_dataset.add_descriptors(descriptors=[\n",
       "    LLMEval(&quot;new_response&quot;, template=correctness, provider=&quot;openai&quot;, model=&quot;gpt-4o-mini&quot;, alias=&quot;Correctness&quot;)\n",
       "])\n",
       "</code></pre>\n",
       "</li>\n",
       "<li><p><strong>Run the Evaluation and Generate Reports</strong>:</p>\n",
       "<pre><code class=\"language-python\">report = Report([\n",
       "    TextEvals()\n",
       "])\n",
       "\n",
       "my_eval = report.run(eval_dataset, None)\n",
       "print(my_eval)\n",
       "</code></pre>\n",
       "</li>\n",
       "</ol>\n",
       "<h3>Explore Results</h3>\n",
       "<p>You can view the evaluation results and inspect the dataset with:</p>\n",
       "<pre><code class=\"language-python\">eval_dataset.as_dataframe()\n",
       "</code></pre>\n",
       "<h3>Conclusion</h3>\n",
       "<p>This guide provides a basic structure for using an LLM as a judge in evaluations. You can explore two types of evaluations: correctness and verbosity, and adjust your prompts based on the results.</p>\n",
       "<p>For more detailed instructions and examples, refer to the full tutorial: <a href=\"https://github.com/evidentlyai/docs/blob/main/examples/LLM_judge.mdx\">LLM as a Judge</a>.</p>\n",
       "</div>\n",
       "            </div>\n",
       "        "
      ],
      "text/plain": [
       "<IPython.core.display.HTML object>"
      ]
     },
     "metadata": {},
     "output_type": "display_data"
    },
    {
     "name": "stdout",
     "output_type": "stream",
     "text": [
      "You: stop\n"
     ]
    },
    {
     "name": "stdout",
     "output_type": "stream",
     "text": [
      "Chat ended.\n"
     ]
    }
   ],
   "source": [
    "runner.run();"
   ]
  },
  {
   "cell_type": "code",
   "execution_count": null,
   "id": "05786a7c-eff1-4b7e-9f1b-64aeac2d8293",
   "metadata": {},
   "outputs": [],
   "source": []
  }
 ],
 "metadata": {
  "kernelspec": {
   "display_name": ".venv",
   "language": "python",
   "name": "python3"
  },
  "language_info": {
   "codemirror_mode": {
    "name": "ipython",
    "version": 3
   },
   "file_extension": ".py",
   "mimetype": "text/x-python",
   "name": "python",
   "nbconvert_exporter": "python",
   "pygments_lexer": "ipython3",
   "version": "3.12.11"
  }
 },
 "nbformat": 4,
 "nbformat_minor": 5
}
