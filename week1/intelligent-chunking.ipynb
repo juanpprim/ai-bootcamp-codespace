{
 "cells": [
  {
   "cell_type": "code",
   "execution_count": 2,
   "id": "5c5bf726-968a-42ff-bd59-e5623d8b801c",
   "metadata": {},
   "outputs": [],
   "source": [
    "# all the code we wrote in docs.ipynb is in the github.py file\n",
    "\n",
    "import docs\n",
    "\n",
    "github_data = docs.read_github_data()\n",
    "parsed_data = docs.parse_data(github_data)"
   ]
  },
  {
   "cell_type": "code",
   "execution_count": 3,
   "id": "0ed4ac42-7f34-436d-b67c-b0ee0575abff",
   "metadata": {},
   "outputs": [
    {
     "data": {
      "text/plain": [
       "21712"
      ]
     },
     "execution_count": 3,
     "metadata": {},
     "output_type": "execute_result"
    }
   ],
   "source": [
    "long_text = parsed_data[45]['content']\n",
    "len(long_text)"
   ]
  },
  {
   "cell_type": "code",
   "execution_count": 4,
   "id": "a4285258-d56a-4023-bd7a-811bf6801686",
   "metadata": {},
   "outputs": [],
   "source": [
    "from openai import OpenAI\n",
    "\n",
    "openai_client = OpenAI()\n",
    "\n",
    "def llm_structured(instructions, user_prompt, output_type, model=\"gpt-4o-mini\"):\n",
    "    messages = [\n",
    "        {\"role\": \"system\", \"content\": instructions},\n",
    "        {\"role\": \"user\", \"content\": user_prompt}\n",
    "    ]\n",
    "\n",
    "    response = openai_client.responses.parse(\n",
    "        model=model,\n",
    "        input=messages,\n",
    "        text_format=output_type\n",
    "    )\n",
    "\n",
    "    return response.output_parsed"
   ]
  },
  {
   "cell_type": "code",
   "execution_count": 5,
   "id": "200844a5-6435-4778-811c-946c32a9b307",
   "metadata": {},
   "outputs": [],
   "source": [
    "instructions = \"\"\"\n",
    "Split the provided document into logical sections that make sense for a Q&A system.\n",
    "Each section should be self-contained and cover a specific topic or concept.\n",
    "Sections should be relatively large (3000-5000 characters).\n",
    "\"\"\".strip()"
   ]
  },
  {
   "cell_type": "code",
   "execution_count": null,
   "id": "724058e7-ae55-447d-a2ab-f3e3e80b5ca2",
   "metadata": {},
   "outputs": [],
   "source": []
  },
  {
   "cell_type": "code",
   "execution_count": 6,
   "id": "d9ba06d6-b6aa-4d16-9a9a-a0d4e39976dd",
   "metadata": {},
   "outputs": [],
   "source": [
    "from pydantic import BaseModel\n",
    "\n",
    "class Section(BaseModel):\n",
    "    title: str\n",
    "    markdown: str\n",
    "\n",
    "class Document(BaseModel):\n",
    "    title: str\n",
    "    sections: list[Section]"
   ]
  },
  {
   "cell_type": "code",
   "execution_count": null,
   "id": "60f82b9d-28c7-4a93-9876-fb99bb6725fb",
   "metadata": {},
   "outputs": [],
   "source": [
    "result = llm_structured(\n",
    "    instructions=instructions,\n",
    "    user_prompt=long_text,\n",
    "    output_type=Document\n",
    ")"
   ]
  },
  {
   "cell_type": "code",
   "execution_count": null,
   "id": "671c64de-2f22-40f5-8f2e-a1e4cd666469",
   "metadata": {},
   "outputs": [
    {
     "data": {
      "text/plain": [
       "5"
      ]
     },
     "execution_count": 45,
     "metadata": {},
     "output_type": "execute_result"
    }
   ],
   "source": [
    "len(result.sections)"
   ]
  },
  {
   "cell_type": "code",
   "execution_count": null,
   "id": "3f56d962-7088-4f17-a53d-8f9159a369e3",
   "metadata": {
    "scrolled": true
   },
   "outputs": [
    {
     "name": "stdout",
     "output_type": "stream",
     "text": [
      "Regression Testing for LLM Outputs\n",
      "\n",
      "-- Introduction to Regression Testing for LLM Outputs --\n",
      "\n",
      "In this tutorial, you will learn how to perform regression testing for LLM outputs. Regression testing is essential when you make changes to your model, prompts, or any components of your system affecting output. By comparing new responses with older ones after modifying parameters, you can identify significant changes, ensuring updates are reliable and identifying issues to fix.\n",
      "\n",
      "**Example Setup: Evidently Cloud**  \n",
      "This tutorial will use Evidently Cloud, allowing you to run evaluations in Python and upload results. You can also view reports locally if preferred. For self-hosted instances, simply replace `CloudWorkspace` with `Workspace`.\n",
      "\n",
      "-- Tutorial Overview --\n",
      "\n",
      "### Scope of the Tutorial\n",
      "This tutorial outlines the following key steps:\n",
      "\n",
      "1. **Creating a Toy Dataset**: Build a small dataset of questions and reference answers.\n",
      "2. **Generating New Answers**: Simulate generating new answers using an LLM after changing a prompt.\n",
      "3. **Creating a Report with Tests**: Evaluate the new answers for length, correctness, and style consistency.\n",
      "4. **Building a Monitoring Dashboard**: Create visual plots to track testing results over time.\n",
      "\n",
      "### Prerequisites  \n",
      "To complete the tutorial, you will need:\n",
      "- Basic Python knowledge\n",
      "- An OpenAI API key for LLM evaluation\n",
      "- An Evidently Cloud account for tracking test results (sign up for a free account [here](https://www.evidentlyai.com/register))  \n",
      "\n",
      "You can find all the code in the [Jupyter Notebook](https://github.com/evidentlyai/community-examples/blob/main/tutorials/Regression_testing_with_debugging_updated.ipynb) or start directly in [Google Colab](https://colab.research.google.com/github/evidentlyai/community-examples/blob/main/tutorials/Regression_testing_with_debugging_updated.ipynb).\n",
      "\n",
      "-- Environment Setup and Imports --\n",
      "\n",
      "### 1. Installation and Imports\n",
      "Start by installing Evidently:\n",
      "```bash\n",
      "pip install evidently[llm]\n",
      "```\n",
      "\n",
      "Import the required modules in your Python environment:\n",
      "```python\n",
      "import pandas as pd\n",
      "from evidently.future.datasets import Dataset\n",
      "from evidently.future.datasets import DataDefinition\n",
      "from evidently.future.datasets import Descriptor\n",
      "from evidently.future.descriptors import *\n",
      "from evidently.future.report import Report\n",
      "from evidently.future.presets import TextEvals\n",
      "from evidently.future.metrics import *\n",
      "from evidently.future.tests import *\n",
      "from evidently.features.llm_judge import BinaryClassificationPromptTemplate\n",
      "```\n",
      "\n",
      "To set up a connection to Evidently Cloud:\n",
      "```python\n",
      "from evidently.ui.workspace.cloud import CloudWorkspace\n",
      "```\n",
      "\n",
      "**Optional**: To design monitoring panels programmatically:\n",
      "```python\n",
      "from evidently.ui.dashboards import DashboardPanelPlot\n",
      "from evidently.ui.dashboards import DashboardPanelTestSuite\n",
      "from evidently.ui.dashboards import DashboardPanelTestSuiteCounter\n",
      "from evidently.ui.dashboards import TestSuitePanelType\n",
      "from evidently.ui.dashboards import ReportFilter\n",
      "from evidently.ui.dashboards import PanelValue\n",
      "from evidently.ui.dashboards import PlotType\n",
      "from evidently.ui.dashboards import CounterAgg\n",
      "from evidently.tests.base_test import TestStatus\n",
      "from evidently.renderers.html_widgets import WidgetSize\n",
      "```\n",
      "\n",
      "Set your OpenAI API key:\n",
      "```python\n",
      "import os\n",
      "os.environ[\"OPENAI_API_KEY\"] = \"YOUR KEY\"\n",
      "```\n",
      "\n",
      "-- Creating the Regression Testing Project --\n",
      "\n",
      "### 2. Create a Project  \n",
      "Connect to Evidently Cloud, replacing it with your actual token:\n",
      "```python\n",
      "ws = CloudWorkspace(token=\"YOUR_API_TOKEN\", url=\"https://app.evidently.cloud\")\n",
      "```\n",
      "\n",
      "Create a project within Evidently Cloud:\n",
      "```python\n",
      "project = ws.create_project(\"Regression testing example\", org_id=\"YOUR_ORG_ID\")\n",
      "project.description = \"My project description\"\n",
      "project.save()\n",
      "```\n",
      "\n",
      "-- Preparing the Toy Dataset --\n",
      "\n",
      "### 3. Prepare the Dataset\n",
      "Define a toy dataset with questions and expected correct answers:\n",
      "```python\n",
      "data = [\n",
      "    [\"Why is the sky blue?\", \"The sky is blue because molecules in the air scatter blue light from the sun more than they scatter red light.\"],\n",
      "    [\"How do airplanes stay in the air?\", \"Airplanes stay in the air because their wings create lift by forcing air to move faster over the top of the wing than underneath, which creates lower pressure on top.\"],\n",
      "    [\"Why do we have seasons?\", \"We have seasons because the Earth is tilted on its axis, which causes different parts of the Earth to receive more or less sunlight throughout the year.\"],\n",
      "    [\"How do magnets work?\", \"Magnets work because they have a magnetic field that can attract or repel certain metals, like iron, due to the alignment of their atomic particles.\"],\n",
      "    [\"Why does the moon change shape?\", \"The moon changes shape, or goes through phases, because we see different portions of its illuminated half as it orbits the Earth.\"]\n",
      "]\n",
      "\n",
      "columns = [\"question\", \"target_response\"]\n",
      "\n",
      "ref_data = pd.DataFrame(data, columns=columns)\n",
      "```\n",
      "\n",
      "Once you’ve set up the data, preview it using:\n",
      "```python\n",
      "pd.set_option('display.max_colwidth', None)\n",
      "ref_data.head()\n",
      "```\n",
      "\n"
     ]
    }
   ],
   "source": [
    "print(f'{result.title}')\n",
    "print()\n",
    "\n",
    "for section in result.sections:\n",
    "    print(f'-- {section.title} --')\n",
    "    print()\n",
    "    print(section.markdown)\n",
    "    print()"
   ]
  },
  {
   "cell_type": "code",
   "execution_count": null,
   "id": "68e5ddac-f4f0-4ee7-9c6f-4da35964151d",
   "metadata": {},
   "outputs": [],
   "source": []
  },
  {
   "cell_type": "code",
   "execution_count": null,
   "id": "3d99bd0d-d272-4c2e-8a8d-8ec4b7ccc9d3",
   "metadata": {},
   "outputs": [],
   "source": []
  }
 ],
 "metadata": {
  "kernelspec": {
   "display_name": ".venv",
   "language": "python",
   "name": "python3"
  },
  "language_info": {
   "codemirror_mode": {
    "name": "ipython",
    "version": 3
   },
   "file_extension": ".py",
   "mimetype": "text/x-python",
   "name": "python",
   "nbconvert_exporter": "python",
   "pygments_lexer": "ipython3",
   "version": "3.12.11"
  }
 },
 "nbformat": 4,
 "nbformat_minor": 5
}
