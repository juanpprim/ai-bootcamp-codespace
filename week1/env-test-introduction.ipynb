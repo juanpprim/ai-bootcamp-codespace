{
 "cells": [
  {
   "cell_type": "code",
   "execution_count": null,
   "id": "d5f538f3-ab9b-40ba-adf0-6f1028b8cf01",
   "metadata": {},
   "outputs": [],
   "source": [
    "from openai import OpenAI"
   ]
  },
  {
   "cell_type": "code",
   "execution_count": null,
   "id": "64022044-47de-4794-9d74-9144f8328a07",
   "metadata": {},
   "outputs": [],
   "source": [
    "openai_client = OpenAI()"
   ]
  },
  {
   "cell_type": "code",
   "execution_count": null,
   "id": "f5963c71-a1f8-41e0-86b3-2b7daa30b62a",
   "metadata": {},
   "outputs": [
    {
     "name": "stdout",
     "output_type": "stream",
     "text": [
      "Great choice! 🦄 Do you want the unicorn to have a special power or ability? Also, do you have a favorite setting, like a magical forest, a castle, or somewhere else? 🌟\n"
     ]
    }
   ],
   "source": [
    "instructions = \"\"\"\n",
    "You're an assiastant that creates bedtime stories. Include emojis in the reponse.\n",
    "Ask the user follow up questions and make sure the stories are personalized.\n",
    "\"\"\".strip()\n",
    "\n",
    "messages = [\n",
    "    {\"role\": \"system\", \"content\": instructions},\n",
    "    {\"role\": \"user\", \"content\": \"unicorn\"},\n",
    "]\n",
    "\n",
    "response = openai_client.responses.create(\n",
    "    model=\"gpt-4o-mini\",\n",
    "    input=messages,\n",
    ")\n",
    "\n",
    "print(response.output_text)"
   ]
  },
  {
   "cell_type": "code",
   "execution_count": null,
   "id": "cb678f2b-abd3-4013-a8d9-cd3a1ecc4106",
   "metadata": {},
   "outputs": [],
   "source": [
    "messages.append(response.output[0])"
   ]
  },
  {
   "cell_type": "code",
   "execution_count": null,
   "id": "69f28cf4-dd81-4bd3-9dff-8385debd9e63",
   "metadata": {},
   "outputs": [],
   "source": [
    "answer = \"yes, it should be able to fly, and it shuold be in a magical forest\"\n",
    "messages.append({\"role\": \"user\", \"content\": answer})"
   ]
  },
  {
   "cell_type": "code",
   "execution_count": null,
   "id": "f0a405b6-cf50-4546-ba8a-65500c775cac",
   "metadata": {},
   "outputs": [
    {
     "data": {
      "text/plain": [
       "[{'role': 'system',\n",
       "  'content': \"You're an assiastant that creates bedtime stories. Include emojis in the reponse.\\nAsk the user follow up questions and make sure the stories are personalized.\"},\n",
       " {'role': 'user', 'content': 'unicorn'},\n",
       " ResponseOutputMessage(id='msg_0b600b3c9893daca0068e382c897188195b4627f7c0a4a3b8f', content=[ResponseOutputText(annotations=[], text='Imagine a vibrant, magical forest filled with towering, luminescent trees and sparkling streams. In this enchanting setting, a majestic creature takes flight—a mythical bird with shimmering, iridescent feathers that change color with the light. Its wings are large and graceful, adorned with intricate patterns resembling stars and galaxies.\\n\\nAs it soars through the forest, wisps of sparkling dust follow in its wake. The air is alive with the sounds of magical creatures, and the scent of blooming, fantastical flowers fills the atmosphere. Sunlight filters through the canopy, creating a kaleidoscope of colors on the forest floor.\\n\\nThis scene captures the essence of wonder and magic, where anything is possible, and the skies above are full of dreams waiting to take flight. Would you like to explore more details about this magical forest or the creature?', type='output_text', logprobs=[])], role='assistant', status='completed', type='message'),\n",
       " {'role': 'user',\n",
       "  'content': 'yes, it should be able to fly, and it shuold be in a magical forest'}]"
      ]
     },
     "execution_count": 29,
     "metadata": {},
     "output_type": "execute_result"
    }
   ],
   "source": [
    "messages"
   ]
  },
  {
   "cell_type": "code",
   "execution_count": null,
   "id": "a2e3f2ae-97b5-4262-97c5-ec1163242f33",
   "metadata": {},
   "outputs": [
    {
     "name": "stdout",
     "output_type": "stream",
     "text": [
      "Wonderful! Let's dive into the story of our flying unicorn in a magical forest! 🌈✨\n",
      "\n",
      "---\n",
      "\n",
      "**Title: Luna the Flying Unicorn** 🦄🌌\n",
      "\n",
      "In the heart of a magical forest called Starwood, there lived a spectacular unicorn named Luna. Unlike any other unicorn, Luna had magnificent, shimmering wings that sparkled like diamonds in the sunlight. Her coat was pure white, and her flowing mane glowed with all the colors of the rainbow. 🌈✨\n",
      "\n",
      "Every day, Luna would flap her wings and soar high above the treetops, creating rainbows that arched beautifully across the sky. The other creatures of the forest—playful fairies, wise old owls, and gentle deer—would look up in awe as she danced on the wind. \n",
      "\n",
      "One sunny morning, Luna decided to explore a hidden part of Starwood that she had never seen before. As she flew deeper into the forest, she discovered a magical glade filled with singing flowers and twinkling lights. Suddenly, she spotted a little fairy named Bella, who looked a bit upset. 😔🧚‍♀️\n",
      "\n",
      "“Hello, Luna,” Bella called out, her voice like a gentle breeze. “I’ve lost my favorite sparkly wand, and without it, I can’t make my flower friends bloom!”\n",
      "\n",
      "Luna, always eager to help her friends, flapped her wings and said, “Don’t worry, Bella! Let’s go find your wand together!” 🦄💖\n",
      "\n",
      "With a burst of energy, Luna soared above the glade, scanning the ground with her keen unicorn eyes. After a short while, she spotted a glimmer among the roots of an ancient tree. “Look over there!” she exclaimed, diving down gracefully.\n",
      "\n",
      "Bella's face lit up with joy as she picked up her wand. “Thank you, Luna! You're the best!” she chirped, waving her wand and making all the flowers around them bloom in a dazzling display of color. 🌸✨🌼\n",
      "\n",
      "As the sun began to set, painting the sky with shades of orange and pink, Luna and Bella danced and twirled in the air, their laughter echoing through the magical forest. Luna’s heart was full, knowing she had made her friend happy.\n",
      "\n",
      "And from that day on, Luna continued to spread joy in Starwood, flying high and helping anyone in need, proving that even a unicorn can make a difference in the enchanted world around her. 🌟💖\n",
      "\n",
      "---\n",
      "\n",
      "**The End**\n",
      "\n",
      "What do you think? Would you like to add any specific details, or perhaps have a different character join the adventure? 😊📖\n"
     ]
    }
   ],
   "source": [
    "response = openai_client.responses.create(\n",
    "    model=\"gpt-4o-mini\",\n",
    "    input=messages,\n",
    ")\n",
    "\n",
    "print(response.output_text)"
   ]
  },
  {
   "cell_type": "code",
   "execution_count": null,
   "id": "886a28ee-0644-4186-bc0b-9e17285cedcd",
   "metadata": {},
   "outputs": [],
   "source": [
    "from toyaikit.llm import OpenAIClient\n",
    "from toyaikit.chat import IPythonChatInterface\n",
    "from toyaikit.chat.runners import OpenAIResponsesRunner\n"
   ]
  },
  {
   "cell_type": "code",
   "execution_count": null,
   "id": "9d08fb20-08f2-4622-adf6-40ae63fc748f",
   "metadata": {},
   "outputs": [],
   "source": [
    "llm_client = OpenAIClient(\n",
    "    model='gpt-4o-mini',\n",
    "    client=openai_client\n",
    ")"
   ]
  },
  {
   "cell_type": "code",
   "execution_count": null,
   "id": "babba101-7a03-4351-b1c9-aac82de0589d",
   "metadata": {},
   "outputs": [],
   "source": [
    "runner = OpenAIResponsesRunner(\n",
    "    tools=None,\n",
    "    developer_prompt=instructions,\n",
    "    chat_interface=IPythonChatInterface(),\n",
    "    llm_client=llm_client\n",
    ")"
   ]
  },
  {
   "cell_type": "code",
   "execution_count": null,
   "id": "e85f1bc7-7b37-479b-8095-4f4452637ee3",
   "metadata": {},
   "outputs": [
    {
     "name": "stdout",
     "output_type": "stream",
     "text": [
      "You: unicorn\n"
     ]
    },
    {
     "data": {
      "text/html": [
       "\n",
       "            <div>\n",
       "                <div><b>Assistant:</b></div>\n",
       "                <div><p>Absolutely! I can create a magical unicorn bedtime story for you. To make it special, could you answer a couple of questions?</p>\n",
       "<ol>\n",
       "<li>What’s your name?</li>\n",
       "<li>Do you have a favorite color?</li>\n",
       "<li>Is there a specific adventure you’d like the unicorn to go on (like exploring a forest, meeting friends, or discovering a treasure)?</li>\n",
       "</ol>\n",
       "<p>Let me know, and we’ll start crafting your story! 🦄✨📖</p>\n",
       "</div>\n",
       "            </div>\n",
       "        "
      ],
      "text/plain": [
       "<IPython.core.display.HTML object>"
      ]
     },
     "metadata": {},
     "output_type": "display_data"
    },
    {
     "name": "stdout",
     "output_type": "stream",
     "text": [
      "You: Alexey, blue, discovering a treasure\n"
     ]
    },
    {
     "data": {
      "text/html": [
       "\n",
       "            <div>\n",
       "                <div><b>Assistant:</b></div>\n",
       "                <div><p>Thank you, Alexey! 🌟 Let’s dive into a magical bedtime story about a blue unicorn named Luna who goes on an adventure to discover treasure!</p>\n",
       "<hr />\n",
       "<p><strong>Luna the Blue Unicorn and the Hidden Treasure</strong> 🌈💎</p>\n",
       "<p>Once upon a time, in a lush green valley surrounded by sparkling rivers and towering mountains, there lived a beautiful blue unicorn named Luna. 🦄 She had a shimmering coat that sparkled under the sun and a flowing mane that glittered like stars. Every morning, Luna would gallop through the valley, spreading joy wherever she went.</p>\n",
       "<p>One sunny day, while exploring a hidden glade, Luna stumbled upon an ancient map buried beneath a pile of colorful leaves. 🗺️🌿 With her heart racing with excitement, she picked up the map and noticed it led to a mysterious treasure hidden deep within the Enchanted Forest!</p>\n",
       "<p>“Wow! A treasure hunt! This will be an incredible adventure!” Luna exclaimed, her eyes sparkling. 💖 Determined to find the treasure, she set off on her quest, her spirit soaring high as she dashed through the trees.</p>\n",
       "<p>As Luna ventured deeper into the forest, she met her friends: Benny the Brave Rabbit 🐇, Selina the Wise Owl 🦉, and Faye the Dancing Fairy 🧚‍♀️. “Do you want to join me in finding the treasure?” Luna asked.</p>\n",
       "<p>“Absolutely!” they all cheered in unison, their hearts pounding with excitement.</p>\n",
       "<p>Following the map, they crossed a bubbling brook and climbed over mossy stones. After a while, they reached a clearing marked with a giant golden tree. 🌳 Underneath the tree was a sparkling light, and Luna’s heart raced faster.</p>\n",
       "<p>“Could this be it?” she whispered, eyes wide with wonder.</p>\n",
       "<p>Together, they began to dig beneath the tree, giggling and sharing stories about what they might find. Suddenly, they struck something hard. With one final push, they uncovered a dazzling chest decorated with jewels! 💎✨</p>\n",
       "<p>With bated breath, they opened the chest to find it filled with sparkling gems, golden coins, and... a magical book! 📚 The book glowed brightly, and Luna realized it contained stories from around the world.</p>\n",
       "<p>“Let’s share these stories with everyone in our valley,” Benny suggested, his little nose twitching with excitement.</p>\n",
       "<p>“Great idea!” Luna smiled. They decided that the treasure wasn’t just the jewels but the joy of sharing beautiful tales with their friends!</p>\n",
       "<p>And so, Luna and her friends filled their days with stories and laughter, spreading happiness throughout the land. 🌍💕</p>\n",
       "<p>From that day on, Luna learned that the greatest treasure of all is friendship and the stories we share together.</p>\n",
       "<p>As the sun set behind the mountains, Luna and her friends snuggled up under the golden tree, dreaming of their next grand adventure. 🌅🌌</p>\n",
       "<p>And so, dear Alexey, may you dream of magical unicorns and adventures filled with friendship as you drift off to sleep. Goodnight! 😴✨</p>\n",
       "<hr />\n",
       "<p>What did you think of the story, Alexey? Would you like to add any more characters or details? 📖🌟</p>\n",
       "</div>\n",
       "            </div>\n",
       "        "
      ],
      "text/plain": [
       "<IPython.core.display.HTML object>"
      ]
     },
     "metadata": {},
     "output_type": "display_data"
    },
    {
     "name": "stdout",
     "output_type": "stream",
     "text": [
      "You: stop\n"
     ]
    },
    {
     "name": "stdout",
     "output_type": "stream",
     "text": [
      "Chat ended.\n"
     ]
    }
   ],
   "source": [
    "runner.run();"
   ]
  },
  {
   "cell_type": "code",
   "execution_count": null,
   "id": "202fec4e-b088-4bb2-91c9-188c5248d0a8",
   "metadata": {},
   "outputs": [
    {
     "data": {
      "text/plain": [
       "\"I'd love to tell you a joke! But first, what's your name?\""
      ]
     },
     "execution_count": 36,
     "metadata": {},
     "output_type": "execute_result"
    }
   ],
   "source": [
    "system_prompt = \"\"\"\n",
    "you're an assistant that can make jokes. Always find out the name of\n",
    "the person to make the jokes personalized. Once you know the name,\n",
    "make the joke about them.\n",
    "\"\"\".strip()\n",
    "\n",
    "messages = [\n",
    "    {\"role\": \"system\", \"content\": system_prompt},\n",
    "    {\"role\": \"user\", \"content\": \"tell me a joke\"}\n",
    "]\n",
    "\n",
    "response = openai_client.chat.completions.create(\n",
    "    model='gpt-4o-mini',\n",
    "    messages=messages\n",
    ")\n",
    "\n",
    "response.choices[0].message.content"
   ]
  },
  {
   "cell_type": "code",
   "execution_count": null,
   "id": "1ddd6286-6e42-4627-8a74-463c5d8b0d81",
   "metadata": {},
   "outputs": [],
   "source": [
    "messages.append(response.choices[0].message)\n",
    "messages.append({\"role\": \"user\", \"content\": \"Alexey\"})\n",
    "\n",
    "response = openai_client.chat.completions.create(\n",
    "    model='gpt-4o-mini',\n",
    "    messages=messages\n",
    ")"
   ]
  },
  {
   "cell_type": "code",
   "execution_count": null,
   "id": "06b1d95b-a2c4-4bc1-b699-f66ccf656342",
   "metadata": {},
   "outputs": [
    {
     "data": {
      "text/plain": [
       "'Great to meet you, Alexey! Here’s a joke just for you:\\n\\nWhy did Alexey bring a ladder to the bar? \\n\\nBecause he heard the drinks were on the house!'"
      ]
     },
     "execution_count": 38,
     "metadata": {},
     "output_type": "execute_result"
    }
   ],
   "source": [
    "response.choices[0].message.content"
   ]
  },
  {
   "cell_type": "code",
   "execution_count": null,
   "id": "b7efd3c3-fd6d-4d70-8dec-ce5dcbf7aac6",
   "metadata": {
    "scrolled": true
   },
   "outputs": [
    {
     "name": "stdout",
     "output_type": "stream",
     "text": [
      "Once upon a time in a magical land called Glitterwood, there lived a beautiful unicorn named Luna. 🌈✨ Luna had a sparkling white coat that shimmered like stars in the night sky and a horn that glowed with all the colors of the rainbow. 🌈\n",
      "\n",
      "Every day, Luna roamed the enchanted forest, making friends with animals big and small. She loved playing hide-and-seek with the playful bunnies 🐰 and racing through the fields with the gentle deer. 🦌 But even with all her friends, Luna often felt lonely because she longed for someone to talk to about her dreams.\n",
      "\n",
      "One bright morning, while exploring a hidden glade filled with flowers, Luna spotted a lonely little fairy named Bella. 🧚‍♀️ Bella had lost her way home and was sad. Luna trotted over and asked, “Why are you upset, dear fairy?” \n",
      "\n",
      "“I can’t find my way back to the Crystal Lake, and I miss my home!” Bella sighed.\n",
      "\n",
      "Luna’s heart warmed with kindness. “Don’t worry! I will help you find your way. 🦄🌼 Together, we can do anything!” \n",
      "\n",
      "So, off they went! They crossed bubbling brooks, climbed over sparkly hills, and flew over rainbows. 🌈 Along the way, Luna shared her dreams of flying high above the clouds and exploring the moon. Bella listened intently, her eyes sparkling with excitement. ✨\n",
      "\n",
      "As the sun began to set, they finally arrived at Crystal Lake, shimmering like a thousand diamonds. Bella’s face lit up with joy! “Thank you, Luna! You are a true friend!” 🥳\n",
      "\n",
      "With a sprinkle of fairy dust, Bella flew high into the air, doing a joyful twirl, and before she left, she took a little moment to say, “Whenever you want to dream, just look at the stars. I’ll be right there with you!” 🌟\n",
      "\n",
      "From that day on, Luna and Bella shared their dreams every night under the stars, knowing that true friendship could overcome any distance. 🌌❤️\n",
      "\n",
      "And as the moon shone brightly, Luna whispered, “The best adventures are those you share with a friend.” 🌙✨\n",
      "\n",
      "And with that, they both drifted off to sleep, dreaming of magical places yet to explore. 😴💖\n",
      "\n",
      "**The End** 🌟"
     ]
    }
   ],
   "source": [
    "stream = openai_client.responses.create(\n",
    "    model='gpt-4o-mini',\n",
    "    input=messages,\n",
    "    stream=True\n",
    ")\n",
    "\n",
    "for event in stream:\n",
    "    if hasattr(event, 'delta'):\n",
    "        print(event.delta, end='')"
   ]
  },
  {
   "cell_type": "code",
   "execution_count": null,
   "id": "4561e83d-b25e-4053-98ef-fe46402e4541",
   "metadata": {},
   "outputs": [],
   "source": []
  }
 ],
 "metadata": {
  "kernelspec": {
   "display_name": "Python 3 (ipykernel)",
   "language": "python",
   "name": "python3"
  },
  "language_info": {
   "codemirror_mode": {
    "name": "ipython",
    "version": 3
   },
   "file_extension": ".py",
   "mimetype": "text/x-python",
   "name": "python",
   "nbconvert_exporter": "python",
   "pygments_lexer": "ipython3",
   "version": "3.12.1"
  }
 },
 "nbformat": 4,
 "nbformat_minor": 5
}
