{
 "cells": [
  {
   "cell_type": "markdown",
   "id": "13189b45-2944-47d1-ba20-0b8942401a67",
   "metadata": {},
   "source": [
    "## Indexing"
   ]
  },
  {
   "cell_type": "code",
   "execution_count": 1,
   "id": "20ae64c0-df56-444f-950e-7915fa4f2734",
   "metadata": {},
   "outputs": [],
   "source": [
    "# all the boilerplate code we have in docs.ipynb is now also in the docs.py file\n",
    "\n",
    "import docs\n",
    "\n",
    "github_data = docs.read_github_data()\n",
    "parsed_data = docs.parse_data(github_data)\n",
    "chunks = docs.chunk_documents(parsed_data)"
   ]
  },
  {
   "cell_type": "code",
   "execution_count": 2,
   "id": "be7c3ccc-f966-451d-90a1-20da72d599f9",
   "metadata": {},
   "outputs": [
    {
     "data": {
      "text/plain": [
       "{'start': 0,\n",
       " 'content': '<Note>\\n  If you\\'re not looking to build API reference documentation, you can delete\\n  this section by removing the api-reference folder.\\n</Note>\\n\\n## Welcome\\n\\nThere are two ways to build API documentation: [OpenAPI](https://mintlify.com/docs/api-playground/openapi/setup) and [MDX components](https://mintlify.com/docs/api-playground/mdx/configuration). For the starter kit, we are using the following OpenAPI specification.\\n\\n<Card\\n  title=\"Plant Store Endpoints\"\\n  icon=\"leaf\"\\n  href=\"https://github.com/mintlify/starter/blob/main/api-reference/openapi.json\"\\n>\\n  View the OpenAPI specification file\\n</Card>\\n\\n## Authentication\\n\\nAll API endpoints are authenticated using Bearer tokens and picked up from the specification file.\\n\\n```json\\n\"security\": [\\n  {\\n    \"bearerAuth\": []\\n  }\\n]\\n```',\n",
       " 'title': 'Introduction',\n",
       " 'description': 'Example section for showcasing API endpoints',\n",
       " 'filename': 'api-reference/introduction.mdx'}"
      ]
     },
     "execution_count": 2,
     "metadata": {},
     "output_type": "execute_result"
    }
   ],
   "source": [
    "chunks[0]"
   ]
  },
  {
   "cell_type": "code",
   "execution_count": 3,
   "id": "caaf7488-973d-492c-a2bc-874430c32acb",
   "metadata": {},
   "outputs": [
    {
     "name": "stdout",
     "output_type": "stream",
     "text": [
      "Connected to Elasticsearch version: 8.15.0\n"
     ]
    }
   ],
   "source": [
    "from elasticsearch import Elasticsearch\n",
    "import warnings\n",
    "\n",
    "# Suppress version compatibility warnings\n",
    "warnings.filterwarnings('ignore', category=UserWarning, module='elasticsearch')\n",
    "\n",
    "# Create client with explicit compatibility settings\n",
    "es_client = Elasticsearch(\n",
    "    'http://localhost:9200',\n",
    "    request_timeout=30,\n",
    "    max_retries=10,\n",
    "    retry_on_timeout=True\n",
    ")\n",
    "\n",
    "# Test connection and get server version\n",
    "try:\n",
    "    info = es_client.info()\n",
    "    print(f\"Connected to Elasticsearch version: {info['version']['number']}\")\n",
    "except Exception as e:\n",
    "    print(f\"Connection failed: {e}\")\n",
    "    print(\"Make sure Elasticsearch is running with: docker compose up -d\") "
   ]
  },
  {
   "cell_type": "code",
   "execution_count": 4,
   "id": "099b138f-19e8-4610-a13e-0dd378163aec",
   "metadata": {},
   "outputs": [
    {
     "data": {
      "text/plain": [
       "ObjectApiResponse({'acknowledged': True, 'shards_acknowledged': True, 'index': 'evidently-docs'})"
      ]
     },
     "execution_count": 4,
     "metadata": {},
     "output_type": "execute_result"
    }
   ],
   "source": [
    "index_settings = {\n",
    "    \"mappings\": {\n",
    "        \"properties\": {\n",
    "            \"start\": {\"type\": \"integer\"},\n",
    "            \"content\": {\"type\": \"text\"},\n",
    "            \"title\": {\"type\": \"text\"},\n",
    "            \"description\": {\"type\": \"text\"},\n",
    "            \"filename\": {\"type\": \"text\"}\n",
    "        }\n",
    "    }\n",
    "}\n",
    "\n",
    "index_name = \"evidently-docs\"\n",
    "es_client.indices.create(index=index_name, body=index_settings)"
   ]
  },
  {
   "cell_type": "code",
   "execution_count": null,
   "id": "9f5ef98d-6e00-48b9-b729-9b41dac0ca2e",
   "metadata": {},
   "outputs": [],
   "source": []
  },
  {
   "cell_type": "code",
   "execution_count": 5,
   "id": "f9423aa1-61cf-4ab6-9f21-12a661334c9e",
   "metadata": {},
   "outputs": [],
   "source": [
    "from tqdm.auto import tqdm"
   ]
  },
  {
   "cell_type": "code",
   "execution_count": 6,
   "id": "965aad67-9741-4e40-b7fc-5b3b26be7109",
   "metadata": {},
   "outputs": [
    {
     "data": {
      "application/vnd.jupyter.widget-view+json": {
       "model_id": "b89253e266ca42828b35cc6542a51ddf",
       "version_major": 2,
       "version_minor": 0
      },
      "text/plain": [
       "  0%|          | 0/575 [00:00<?, ?it/s]"
      ]
     },
     "metadata": {},
     "output_type": "display_data"
    }
   ],
   "source": [
    "for chunk in tqdm(chunks):\n",
    "    es_client.index(index=index_name, document=chunk)"
   ]
  },
  {
   "cell_type": "markdown",
   "id": "5969fbce-2590-46c4-8a32-420adb2d75cf",
   "metadata": {},
   "source": [
    "## Retrieval"
   ]
  },
  {
   "cell_type": "code",
   "execution_count": 7,
   "id": "7a84da6f-e99f-48d3-a308-f8a90b45ed98",
   "metadata": {},
   "outputs": [],
   "source": [
    "from elasticsearch import Elasticsearch\n",
    "import warnings\n",
    "\n",
    "# Suppress version compatibility warnings\n",
    "warnings.filterwarnings('ignore', category=UserWarning, module='elasticsearch')\n",
    "\n",
    "# Create client with explicit compatibility settings\n",
    "es_client = Elasticsearch(\n",
    "    'http://localhost:9200',\n",
    "    request_timeout=30,\n",
    "    max_retries=10,\n",
    "    retry_on_timeout=True\n",
    ") "
   ]
  },
  {
   "cell_type": "code",
   "execution_count": 8,
   "id": "fa7c388c-2e7b-413a-9e2a-d028e1beb88f",
   "metadata": {},
   "outputs": [],
   "source": [
    "index_name = \"evidently-docs\""
   ]
  },
  {
   "cell_type": "code",
   "execution_count": 9,
   "id": "aaeb6da9-2fd1-42a5-81ec-9c3217e5a1ad",
   "metadata": {},
   "outputs": [],
   "source": [
    "def elastic_search(query, num_results=15):\n",
    "    es_query = {\n",
    "        \"size\": num_results,\n",
    "        \"query\": {\n",
    "            \"multi_match\": {\n",
    "                \"query\": query,\n",
    "                \"type\": \"best_fields\",\n",
    "                \"fields\": [\"content\", \"filename\", \"title\", \"description\"],\n",
    "            }\n",
    "        }\n",
    "    }\n",
    "\n",
    "    response = es_client.search(index=index_name, body=es_query)\n",
    "\n",
    "    result_docs = []\n",
    "    \n",
    "    for hit in response['hits']['hits']:\n",
    "        result_docs.append(hit['_source'])\n",
    "    \n",
    "    return result_docs"
   ]
  },
  {
   "cell_type": "code",
   "execution_count": 10,
   "id": "d0220bb3-da2c-429c-adaa-b40312f8b0ee",
   "metadata": {},
   "outputs": [],
   "source": [
    "search_results = elastic_search('how do I use llm-as-a-judge for evals')"
   ]
  },
  {
   "cell_type": "code",
   "execution_count": 11,
   "id": "199017bd-3248-4565-9c81-0647f8f47f51",
   "metadata": {},
   "outputs": [
    {
     "data": {
      "text/plain": [
       "{'start': 3000,\n",
       " 'content': 's/customize_llm_judge#change-the-evaluator-llm) to see how you can select a different evaluator LLM. \\n</Info>\\n\\n## 2.  Create the Dataset\\n\\nFirst, we\\'ll create a toy Q&A dataset with customer support question that includes:\\n\\n- **Questions**. The inputs sent to the LLM app.\\n- **Target responses**. The approved responses you consider accurate.\\n- **New responses**. Imitated new responses from the system.\\n- **Manual labels with explanation**. Labels that say if response is correct or not.\\n\\nWhy add the labels? It\\'s a good idea to be the judge yourself before you write a prompt. This helps:\\n\\n- Formulate better criteria. You discover nuances that help you write a better prompt.\\n- Get the \"ground truth\". You can use it to evaluate the quality of the LLM judge.\\n\\nUltimately, an LLM judge is a small ML system, and it needs its own evals\\\\!\\n\\n**Generate the dataframe**. Here\\'s how you can create this dataset in one go:\\n\\n<Accordion title=\"Toy data to run the example\" defaultOpen={false}>\\n  ```python\\n  data = [\\n    [\"Hi there, how do I reset my password?\",\\n     \"To reset your password, click on \\'Forgot Password\\' on the login page and follow the instructions sent to your registered email.\",\\n     \"To change your password, select \\'Forgot Password\\' on the login screen and follow the steps sent to your registered email address. If you don\\'t receive the email, check your spam folder or contact support for assistance.\",\\n     \"incorrect\", \"adds new information (contact support)\"],\\n  \\n    [\"Where can I find my transaction history?\",\\n     \"You can view your transaction history by logging into your account and navigating to the \\'Transaction History\\' section. Here, you can see all your past transactions. You can also filter the transactions by date or type for easier viewing.\",\\n     \"Log into your account and go to \\'Transaction History\\' to see all your past transactions. In this section, you can view and filter your transactions by date or type. This allows you to find specific transactions quic',\n",
       " 'title': 'LLM as a judge',\n",
       " 'description': 'How to create and evaluate an LLM judge.',\n",
       " 'filename': 'examples/LLM_judge.mdx'}"
      ]
     },
     "execution_count": 11,
     "metadata": {},
     "output_type": "execute_result"
    }
   ],
   "source": [
    "search_results[0]"
   ]
  },
  {
   "cell_type": "code",
   "execution_count": 12,
   "id": "9eec6ce1-cc00-4dc3-b76e-fb63677db9c6",
   "metadata": {},
   "outputs": [],
   "source": [
    "def rag(question):\n",
    "    search_results = elastic_search(question)\n",
    "    ...\n",
    "    "
   ]
  }
 ],
 "metadata": {
  "kernelspec": {
   "display_name": ".venv",
   "language": "python",
   "name": "python3"
  },
  "language_info": {
   "codemirror_mode": {
    "name": "ipython",
    "version": 3
   },
   "file_extension": ".py",
   "mimetype": "text/x-python",
   "name": "python",
   "nbconvert_exporter": "python",
   "pygments_lexer": "ipython3",
   "version": "3.12.11"
  }
 },
 "nbformat": 4,
 "nbformat_minor": 5
}
